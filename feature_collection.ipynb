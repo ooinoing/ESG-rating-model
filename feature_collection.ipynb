{
  "cells": [
    {
      "cell_type": "markdown",
      "metadata": {
        "id": "Dt7GsWgs7ucq"
      },
      "source": [
        "# feature 별 데이터를 수집, csv로 저장\n"
      ]
    },
    {
      "cell_type": "markdown",
      "metadata": {},
      "source": [
        "1. feature 수집 방법 \n",
        "- PATH 를 사용자 환경에 맞게 설정합니다. \n",
        "- 업데이트(혹은 얻고자)하는 feature의 개별 코드를 실행합니다.\n",
        "\n",
        "2. 필요한 모듈 \n",
        "- 각 feature 를 수집하기 위한 함수가 .py로 정리되어있습니다. 수집하고자 하는 feature 파일들이 현재 경로에 포함되어있는지 확인해주세요."
      ]
    },
    {
      "cell_type": "markdown",
      "metadata": {},
      "source": [
        "### PATH 설정 및 library 불러오기"
      ]
    },
    {
      "cell_type": "markdown",
      "metadata": {},
      "source": [
        "*  각 피쳐 별 수집 코드를 돌리기 전!\n",
        " 해당 코드를 실행 한 후에 원하는 피쳐 탭에서 코드를 실행시키면 됩니다. \n",
        " \n",
        " (경로 지정 및 train, test 종목명과 코드를 불러오는 기능)"
      ]
    },
    {
      "cell_type": "code",
      "execution_count": 1,
      "metadata": {
        "id": "8ykdm0tJMtLZ"
      },
      "outputs": [],
      "source": [
        "import pandas as pd\n",
        "import numpy as np\n",
        "import os\n",
        "from servicetype import TYPE\n",
        "from opos_crawling import OPOS\n",
        "from noe_crawling import NOE\n",
        "from cr_crawling import CR\n",
        "from dr_crawling import DR\n",
        "from per_pbr_dvr import PER_PBR_DVR\n",
        "from age import AGE\n",
        "from size import SIZE\n",
        "from esg_report import ESG_REPORT\n",
        "from gov_report import GOV_REPORT\n",
        "from green_bond import GREEN_BOND\n",
        "from green_corp import GREEN_CORP\n",
        "from green_tech import GREEN_TECH\n",
        "from employee import get_employee, WORK_YEAR, SALARY, RE_EMP_RATIO\n",
        "from female_salary import FEMALE_SALARY\n",
        "from dir_pay import get_dir_pay, list2dict\n",
        "from news_crawler import save2df\n",
        "from count_word_news import keyword_rate\n",
        "from count_word_report import report_word\n",
        "\n",
        "\n",
        "\n",
        "\n",
        "PATH = os.getcwd()  # 포함되어있어야 하는 파일 train.xlsx, test.xlsx , 코스피.xlsx \n",
        "\n",
        "FILE_PATH = '/Users/jeeho/lab/miraeasset/mirae_env/최종/data'\n",
        "SAVE_PATH = '/Users/jeeho/lab/miraeasset/mirae_env/최종/dataout'\n"
      ]
    },
    {
      "cell_type": "markdown",
      "metadata": {
        "id": "t0GBKDiOEEAL"
      },
      "source": [
        "### type "
      ]
    },
    {
      "cell_type": "code",
      "execution_count": 6,
      "metadata": {},
      "outputs": [],
      "source": [
        "train=pd.read_excel(FILE_PATH + \"/train.xlsx\")\n",
        "train.rename(columns = {'종목코드':\"CODE\",'종목명':\"CO_NM\"},inplace=True)\n",
        "train['CODE'] = train['CODE'].apply(lambda x : str(x).zfill(6))\n",
        "train=train[[\"CO_NM\",\"CODE\"]]\n",
        "\n",
        "test=pd.read_excel(FILE_PATH + \"/test.xlsx\")\n",
        "test.rename(columns = {'종목코드':\"CODE\",'종목명':\"CO_NM\"},inplace=True)\n",
        "test['CODE'] = test['CODE'].apply(lambda x : str(x).zfill(6))\n",
        "test=test[[\"CO_NM\",\"CODE\"]]"
      ]
    },
    {
      "cell_type": "markdown",
      "metadata": {},
      "source": [
        "train"
      ]
    },
    {
      "cell_type": "code",
      "execution_count": null,
      "metadata": {},
      "outputs": [],
      "source": [
        "from servicetype import TYPE\n",
        "\n",
        "train = TYPE(FILE_PATH, train, 1)\n",
        "train.to_csv(SAVE_PATH+\"/type_train.csv\", index= False)"
      ]
    },
    {
      "cell_type": "markdown",
      "metadata": {},
      "source": [
        "test"
      ]
    },
    {
      "cell_type": "code",
      "execution_count": 8,
      "metadata": {},
      "outputs": [],
      "source": [
        "from servicetype import TYPE\n",
        "\n",
        "test = TYPE(FILE_PATH, test, 0)\n",
        "test.to_csv(SAVE_PATH+\"/type_test.csv\", index= False)"
      ]
    },
    {
      "cell_type": "markdown",
      "metadata": {
        "id": "wcp1yXdsEFvj"
      },
      "source": [
        "### opos "
      ]
    },
    {
      "cell_type": "code",
      "execution_count": null,
      "metadata": {},
      "outputs": [],
      "source": [
        "train=pd.read_excel(FILE_PATH + \"/train.xlsx\")\n",
        "train.rename(columns = {'종목코드':\"CODE\",'종목명':\"CO_NM\"},inplace=True)\n",
        "train['CODE'] = train['CODE'].apply(lambda x : str(x).zfill(6))\n",
        "train=train[[\"CO_NM\",\"CODE\"]]\n",
        "\n",
        "test=pd.read_excel(FILE_PATH + \"/test.xlsx\")\n",
        "test.rename(columns = {'종목코드':\"CODE\",'종목명':\"CO_NM\"},inplace=True)\n",
        "test['CODE'] = test['CODE'].apply(lambda x : str(x).zfill(6))\n",
        "test=test[[\"CO_NM\",\"CODE\"]]"
      ]
    },
    {
      "cell_type": "markdown",
      "metadata": {},
      "source": [
        "train"
      ]
    },
    {
      "cell_type": "code",
      "execution_count": null,
      "metadata": {},
      "outputs": [],
      "source": [
        "#from opos_dr import OPOS \n",
        "from opos_crawling import OPOS\n",
        "\n",
        "train = OPOS(FILE_PATH, train,1)\n",
        "train.to_csv(SAVE_PATH+\"/OPOS_train.csv\", index= False)\n"
      ]
    },
    {
      "cell_type": "markdown",
      "metadata": {},
      "source": [
        "test"
      ]
    },
    {
      "cell_type": "code",
      "execution_count": null,
      "metadata": {},
      "outputs": [],
      "source": [
        "from opos_crawling import OPOS\n",
        "\n",
        "test = OPOS(FILE_PATH, test,0)\n",
        "test.to_csv(SAVE_PATH+\"/OPOS_test.csv\", index= False)"
      ]
    },
    {
      "cell_type": "markdown",
      "metadata": {},
      "source": [
        "### noe "
      ]
    },
    {
      "cell_type": "code",
      "execution_count": null,
      "metadata": {},
      "outputs": [],
      "source": [
        "train=pd.read_excel(FILE_PATH + \"/train.xlsx\")\n",
        "train.rename(columns = {'종목코드':\"CODE\",'종목명':\"CO_NM\"},inplace=True)\n",
        "train['CODE'] = train['CODE'].apply(lambda x : str(x).zfill(6))\n",
        "train=train[[\"CO_NM\",\"CODE\"]]\n",
        "\n",
        "test=pd.read_excel(FILE_PATH + \"/test.xlsx\")\n",
        "test.rename(columns = {'종목코드':\"CODE\",'종목명':\"CO_NM\"},inplace=True)\n",
        "test['CODE'] = test['CODE'].apply(lambda x : str(x).zfill(6))\n",
        "test=test[[\"CO_NM\",\"CODE\"]]"
      ]
    },
    {
      "cell_type": "markdown",
      "metadata": {},
      "source": [
        "train"
      ]
    },
    {
      "cell_type": "code",
      "execution_count": null,
      "metadata": {},
      "outputs": [],
      "source": [
        "from noe_crawling import NOE\n",
        "\n",
        "train[\"NOE\"] = 0\n",
        "train = NOE(FILE_PATH, train, 1)\n",
        "train.to_csv(SAVE_PATH+\"/NOE_train.csv\", index= False)"
      ]
    },
    {
      "cell_type": "markdown",
      "metadata": {},
      "source": [
        "test"
      ]
    },
    {
      "cell_type": "code",
      "execution_count": null,
      "metadata": {},
      "outputs": [],
      "source": [
        "from noe_crawling import NOE\n",
        "\n",
        "test[\"NOE\"] = 0\n",
        "test = NOE(FILE_PATH, SAVE_PATH, test)\n",
        "test.to_csv(SAVE_PATH+\"/NOE_test.csv\", index= False)"
      ]
    },
    {
      "cell_type": "markdown",
      "metadata": {},
      "source": [
        "### cr "
      ]
    },
    {
      "cell_type": "code",
      "execution_count": null,
      "metadata": {},
      "outputs": [],
      "source": [
        "train=pd.read_excel(FILE_PATH + \"/train.xlsx\")\n",
        "train.rename(columns = {'종목코드':\"CODE\",'종목명':\"CO_NM\"},inplace=True)\n",
        "train['CODE'] = train['CODE'].apply(lambda x : str(x).zfill(6))\n",
        "train=train[[\"CO_NM\",\"CODE\"]]\n",
        "\n",
        "test=pd.read_excel(FILE_PATH + \"/test.xlsx\")\n",
        "test.rename(columns = {'종목코드':\"CODE\",'종목명':\"CO_NM\"},inplace=True)\n",
        "test['CODE'] = test['CODE'].apply(lambda x : str(x).zfill(6))\n",
        "test=test[[\"CO_NM\",\"CODE\"]]"
      ]
    },
    {
      "cell_type": "code",
      "execution_count": 1,
      "metadata": {},
      "outputs": [],
      "source": [
        "from cr_crawling import CR\n",
        "\n",
        "train = CR(FILE_PATH,train,1)\n",
        "train.to_csv(SAVE_PATH+\"/CR_train.csv\", index= False)\n"
      ]
    },
    {
      "cell_type": "code",
      "execution_count": null,
      "metadata": {},
      "outputs": [],
      "source": [
        "from cr_crawling import CR\n",
        "\n",
        "test = CR(FILE_PATH, SAVE_PATH, test,0)\n",
        "test.to_csv(SAVE_PATH+\"/CR_test.csv\", index= False)"
      ]
    },
    {
      "cell_type": "markdown",
      "metadata": {},
      "source": [
        "### dr "
      ]
    },
    {
      "cell_type": "code",
      "execution_count": null,
      "metadata": {},
      "outputs": [],
      "source": [
        "train=pd.read_excel(FILE_PATH + \"/train.xlsx\")\n",
        "train.rename(columns = {'종목코드':\"CODE\",'종목명':\"CO_NM\"},inplace=True)\n",
        "train['CODE'] = train['CODE'].apply(lambda x : str(x).zfill(6))\n",
        "train=train[[\"CO_NM\",\"CODE\"]]\n",
        "\n",
        "test=pd.read_excel(FILE_PATH + \"/test.xlsx\")\n",
        "test.rename(columns = {'종목코드':\"CODE\",'종목명':\"CO_NM\"},inplace=True)\n",
        "test['CODE'] = test['CODE'].apply(lambda x : str(x).zfill(6))\n",
        "test=test[[\"CO_NM\",\"CODE\"]]"
      ]
    },
    {
      "cell_type": "markdown",
      "metadata": {},
      "source": [
        "train"
      ]
    },
    {
      "cell_type": "code",
      "execution_count": 16,
      "metadata": {},
      "outputs": [],
      "source": [
        "from dr_crawling import DR\n",
        "\n",
        "train = DR(FILE_PATH,train,1)\n",
        "train.to_csv(SAVE_PATH+\"/DR_train.csv\", index= False)"
      ]
    },
    {
      "cell_type": "markdown",
      "metadata": {},
      "source": [
        "test"
      ]
    },
    {
      "cell_type": "code",
      "execution_count": 17,
      "metadata": {},
      "outputs": [],
      "source": [
        "from dr_crawling import DR\n",
        "\n",
        "test = DR(FILE_PATH, SAVE_PATH, test,0)\n",
        "test.to_csv(SAVE_PATH+\"/DR_test.csv\", index= False)"
      ]
    },
    {
      "cell_type": "markdown",
      "metadata": {
        "id": "YRbKDM4bEMGR"
      },
      "source": [
        "### pbr per dvr "
      ]
    },
    {
      "cell_type": "markdown",
      "metadata": {},
      "source": [
        "- pbr_per_dvr.py 파일 터미널에서 실행 권장 \n",
        "    > python3 pbr_per_dvr.py \n",
        "\n",
        "- .py 에서 경로 지정하고, dart pi key 설정하면 됩니다.\n",
        "- 노트북으로 실행시 출력 오류 자주 발생합니다. 런타임 재시작 후 실행하거나, 가장 권장하는 것은 터미널에서 실행시켜주세요!"
      ]
    },
    {
      "cell_type": "code",
      "execution_count": null,
      "metadata": {},
      "outputs": [],
      "source": [
        "from per_pbr_dvr import PER_PBR_DVR\n",
        "train = PER_PBR_DVR(FILE_PATH, SAVE_PATH, train)\n",
        "train.to_csv(SAVE_PATH+\"/PER_PBR_DVR_train.csv\", index= False)\n",
        "\n",
        "\n",
        "test = PER_PBR_DVR(FILE_PATH, SAVE_PATH, test)\n",
        "test.to_csv(SAVE_PATH+\"/PER_PBR_DVR_test.csv\", index= False)"
      ]
    },
    {
      "cell_type": "markdown",
      "metadata": {},
      "source": [
        "### age "
      ]
    },
    {
      "cell_type": "code",
      "execution_count": null,
      "metadata": {},
      "outputs": [],
      "source": [
        "train=pd.read_excel(FILE_PATH + \"/train.xlsx\")\n",
        "train.rename(columns = {'종목코드':\"CODE\",'종목명':\"CO_NM\"},inplace=True)\n",
        "train['CODE'] = train['CODE'].apply(lambda x : str(x).zfill(6))\n",
        "train=train[[\"CO_NM\",\"CODE\"]]\n",
        "\n",
        "test=pd.read_excel(FILE_PATH + \"/test.xlsx\")\n",
        "test.rename(columns = {'종목코드':\"CODE\",'종목명':\"CO_NM\"},inplace=True)\n",
        "test['CODE'] = test['CODE'].apply(lambda x : str(x).zfill(6))\n",
        "test=test[[\"CO_NM\",\"CODE\"]]"
      ]
    },
    {
      "cell_type": "markdown",
      "metadata": {},
      "source": [
        "train"
      ]
    },
    {
      "cell_type": "code",
      "execution_count": null,
      "metadata": {},
      "outputs": [],
      "source": [
        "from age import AGE\n",
        "\n",
        "train[\"age\"]=np.NaN\n",
        "train = AGE(FILE_PATH, train,1)\n",
        "train.to_csv(SAVE_PATH+\"/AGE_train.csv\", index= False)"
      ]
    },
    {
      "cell_type": "markdown",
      "metadata": {},
      "source": [
        "test"
      ]
    },
    {
      "cell_type": "code",
      "execution_count": null,
      "metadata": {},
      "outputs": [],
      "source": [
        "from age import AGE\n",
        "\n",
        "test[\"age\"]=np.NaN\n",
        "test = AGE(FILE_PATH,test,0)\n",
        "test.to_csv(SAVE_PATH+\"/AGE_test.csv\", index= False)"
      ]
    },
    {
      "cell_type": "markdown",
      "metadata": {
        "id": "GfRLz_YAEMOf"
      },
      "source": [
        "### size "
      ]
    },
    {
      "cell_type": "code",
      "execution_count": null,
      "metadata": {},
      "outputs": [],
      "source": [
        "train=pd.read_excel(FILE_PATH + \"/train.xlsx\")\n",
        "train.rename(columns = {'종목코드':\"CODE\",'종목명':\"CO_NM\"},inplace=True)\n",
        "train['CODE'] = train['CODE'].apply(lambda x : str(x).zfill(6))\n",
        "train=train[[\"CO_NM\",\"CODE\"]]\n",
        "\n",
        "test=pd.read_excel(FILE_PATH + \"/test.xlsx\")\n",
        "test.rename(columns = {'종목코드':\"CODE\",'종목명':\"CO_NM\"},inplace=True)\n",
        "test['CODE'] = test['CODE'].apply(lambda x : str(x).zfill(6))\n",
        "test=test[[\"CO_NM\",\"CODE\"]]"
      ]
    },
    {
      "cell_type": "code",
      "execution_count": null,
      "metadata": {},
      "outputs": [],
      "source": [
        "from size import SIZE\n",
        "\n",
        "train = SIZE(FILE_PATH, train,1)\n",
        "train.to_csv(SAVE_PATH+\"/SIZE_train.csv\", index= False)"
      ]
    },
    {
      "cell_type": "code",
      "execution_count": null,
      "metadata": {},
      "outputs": [],
      "source": [
        "from size import SIZE\n",
        "\n",
        "test = SIZE(FILE_PATH, test,0)\n",
        "test.to_csv(SAVE_PATH+\"/SIZE_test.csv\", index= False)"
      ]
    },
    {
      "cell_type": "markdown",
      "metadata": {
        "id": "7PE47jLGEMU-"
      },
      "source": [
        "### esg_report \n"
      ]
    },
    {
      "cell_type": "code",
      "execution_count": null,
      "metadata": {},
      "outputs": [],
      "source": [
        "train=pd.read_excel(FILE_PATH + \"/train.xlsx\")\n",
        "train.rename(columns = {'종목코드':\"CODE\",'종목명':\"CO_NM\"},inplace=True)\n",
        "train['CODE'] = train['CODE'].apply(lambda x : str(x).zfill(6))\n",
        "train=train[[\"CO_NM\",\"CODE\"]]\n",
        "\n",
        "test=pd.read_excel(FILE_PATH + \"/test.xlsx\")\n",
        "test.rename(columns = {'종목코드':\"CODE\",'종목명':\"CO_NM\"},inplace=True)\n",
        "test['CODE'] = test['CODE'].apply(lambda x : str(x).zfill(6))\n",
        "test=test[[\"CO_NM\",\"CODE\"]]"
      ]
    },
    {
      "cell_type": "markdown",
      "metadata": {},
      "source": [
        "train"
      ]
    },
    {
      "cell_type": "code",
      "execution_count": null,
      "metadata": {},
      "outputs": [],
      "source": [
        "from esg_report import ESG_REPORT\n",
        "os.chdir(FILE_PATH) # FILE_PATH에 크롬 웹드라이버 있는지 확인\n",
        "\n",
        "train=ESG_REPORT(FILE_PATH,train,1)\n",
        "train.to_csv(SAVE_PATH+\"/esg_report_train.csv\", index= False)"
      ]
    },
    {
      "cell_type": "markdown",
      "metadata": {},
      "source": [
        "test"
      ]
    },
    {
      "cell_type": "code",
      "execution_count": null,
      "metadata": {},
      "outputs": [],
      "source": [
        "from esg_report import ESG_REPORT\n",
        "os.chdir(FILE_PATH) # FILE_PATH에 크롬 웹드라이버 있는지 확인\n",
        "\n",
        "test=ESG_REPORT(FILE_PATH, test,0)\n",
        "test.to_csv(SAVE_PATH+\"/esg_report_test.csv\", index= False)"
      ]
    },
    {
      "cell_type": "markdown",
      "metadata": {},
      "source": [
        "### gov_report "
      ]
    },
    {
      "cell_type": "code",
      "execution_count": null,
      "metadata": {},
      "outputs": [],
      "source": [
        "train=pd.read_excel(FILE_PATH + \"/train.xlsx\")\n",
        "train.rename(columns = {'종목코드':\"CODE\",'종목명':\"CO_NM\"},inplace=True)\n",
        "train['CODE'] = train['CODE'].apply(lambda x : str(x).zfill(6))\n",
        "train=train[[\"CO_NM\",\"CODE\"]]\n",
        "\n",
        "test=pd.read_excel(FILE_PATH + \"/test.xlsx\")\n",
        "test.rename(columns = {'종목코드':\"CODE\",'종목명':\"CO_NM\"},inplace=True)\n",
        "test['CODE'] = test['CODE'].apply(lambda x : str(x).zfill(6))\n",
        "test=test[[\"CO_NM\",\"CODE\"]]"
      ]
    },
    {
      "cell_type": "markdown",
      "metadata": {},
      "source": [
        "train"
      ]
    },
    {
      "cell_type": "code",
      "execution_count": null,
      "metadata": {},
      "outputs": [],
      "source": [
        "from gov_report import GOV_REPORT\n",
        "os.chdir(FILE_PATH)\n",
        "\n",
        "train=GOV_REPORT(FILE_PATH, train, 1)\n",
        "train.to_csv(SAVE_PATH+\"/gov_report_train.csv\", index= False)"
      ]
    },
    {
      "cell_type": "markdown",
      "metadata": {},
      "source": [
        "test"
      ]
    },
    {
      "cell_type": "code",
      "execution_count": null,
      "metadata": {},
      "outputs": [
        {
          "name": "stdout",
          "output_type": "stream",
          "text": [
            "데이터 수집 완료.\n",
            "데이터 수집 완료.\n"
          ]
        }
      ],
      "source": [
        "from gov_report import GOV_REPORT\n",
        "os.chdir(FILE_PATH)\n",
        "\n",
        "test=GOV_REPORT(FILE_PATH, test, 0)\n",
        "test.to_csv(SAVE_PATH+\"/gov_report_test.csv\", index= False)"
      ]
    },
    {
      "cell_type": "markdown",
      "metadata": {
        "id": "3yGQtdcBEMbP"
      },
      "source": [
        "### green_bond \n"
      ]
    },
    {
      "cell_type": "code",
      "execution_count": null,
      "metadata": {},
      "outputs": [],
      "source": [
        "train=pd.read_excel(FILE_PATH + \"/train.xlsx\")\n",
        "train.rename(columns = {'종목코드':\"CODE\",'종목명':\"CO_NM\"},inplace=True)\n",
        "train['CODE'] = train['CODE'].apply(lambda x : str(x).zfill(6))\n",
        "train=train[[\"CO_NM\",\"CODE\"]]\n",
        "\n",
        "test=pd.read_excel(FILE_PATH + \"/test.xlsx\")\n",
        "test.rename(columns = {'종목코드':\"CODE\",'종목명':\"CO_NM\"},inplace=True)\n",
        "test['CODE'] = test['CODE'].apply(lambda x : str(x).zfill(6))\n",
        "test=test[[\"CO_NM\",\"CODE\"]]"
      ]
    },
    {
      "cell_type": "markdown",
      "metadata": {},
      "source": [
        "train"
      ]
    },
    {
      "cell_type": "code",
      "execution_count": null,
      "metadata": {},
      "outputs": [],
      "source": [
        "from green_bond import GREEN_BOND\n",
        "\n",
        "os.chdir(FILE_PATH)\n",
        "\n",
        "train=GREEN_BOND(FILE_PATH, train, 1)\n",
        "train.to_csv(SAVE_PATH+\"/green_bond_train.csv\", index= False)"
      ]
    },
    {
      "cell_type": "markdown",
      "metadata": {},
      "source": [
        "test"
      ]
    },
    {
      "cell_type": "code",
      "execution_count": null,
      "metadata": {},
      "outputs": [],
      "source": [
        "from green_bond import GREEN_BOND\n",
        "os.chdir(FILE_PATH)\n",
        "\n",
        "test=GREEN_BOND(FILE_PATH, test, 0 )\n",
        "test.to_csv(SAVE_PATH+\"/green_bond_test.csv\", index= False)"
      ]
    },
    {
      "cell_type": "markdown",
      "metadata": {
        "id": "GcTsVvOcEMmy"
      },
      "source": [
        "### green_corp "
      ]
    },
    {
      "cell_type": "code",
      "execution_count": null,
      "metadata": {},
      "outputs": [],
      "source": [
        "train=pd.read_excel(FILE_PATH + \"/train.xlsx\")\n",
        "train.rename(columns = {'종목코드':\"CODE\",'종목명':\"CO_NM\"},inplace=True)\n",
        "train['CODE'] = train['CODE'].apply(lambda x : str(x).zfill(6))\n",
        "train=train[[\"CO_NM\",\"CODE\"]]\n",
        "\n",
        "test=pd.read_excel(FILE_PATH + \"/test.xlsx\")\n",
        "test.rename(columns = {'종목코드':\"CODE\",'종목명':\"CO_NM\"},inplace=True)\n",
        "test['CODE'] = test['CODE'].apply(lambda x : str(x).zfill(6))\n",
        "test=test[[\"CO_NM\",\"CODE\"]]"
      ]
    },
    {
      "cell_type": "markdown",
      "metadata": {},
      "source": [
        "train"
      ]
    },
    {
      "cell_type": "code",
      "execution_count": null,
      "metadata": {},
      "outputs": [],
      "source": [
        "from green_corp import GREEN_CORP\n",
        "os.chdir(FILE_PATH)\n",
        "train=GREEN_CORP(FILE_PATH, SAVE_PATH, train)\n",
        "train.to_csv(SAVE_PATH+\"/green_corp_train.csv\", index= False)"
      ]
    },
    {
      "cell_type": "markdown",
      "metadata": {},
      "source": [
        "test"
      ]
    },
    {
      "cell_type": "code",
      "execution_count": null,
      "metadata": {},
      "outputs": [],
      "source": [
        "from green_corp import GREEN_CORP\n",
        "os.chdir(FILE_PATH)\n",
        "test=GREEN_CORP(FILE_PATH, SAVE_PATH, test)\n",
        "test.to_csv(SAVE_PATH+\"/green_corp_test.csv\", index= False)"
      ]
    },
    {
      "cell_type": "markdown",
      "metadata": {
        "id": "-t7FzEG_Lcek"
      },
      "source": [
        "### green_tech "
      ]
    },
    {
      "cell_type": "code",
      "execution_count": null,
      "metadata": {},
      "outputs": [],
      "source": [
        "train=pd.read_excel(FILE_PATH + \"/train.xlsx\")\n",
        "train.rename(columns = {'종목코드':\"CODE\",'종목명':\"CO_NM\"},inplace=True)\n",
        "train['CODE'] = train['CODE'].apply(lambda x : str(x).zfill(6))\n",
        "train=train[[\"CO_NM\",\"CODE\"]]\n",
        "\n",
        "test=pd.read_excel(FILE_PATH + \"/test.xlsx\")\n",
        "test.rename(columns = {'종목코드':\"CODE\",'종목명':\"CO_NM\"},inplace=True)\n",
        "test['CODE'] = test['CODE'].apply(lambda x : str(x).zfill(6))\n",
        "test=test[[\"CO_NM\",\"CODE\"]]"
      ]
    },
    {
      "cell_type": "markdown",
      "metadata": {},
      "source": [
        "train"
      ]
    },
    {
      "cell_type": "code",
      "execution_count": null,
      "metadata": {},
      "outputs": [],
      "source": [
        "from green_tech import GREEN_TECH\n",
        "os.chdir(FILE_PATH)\n",
        "train=GREEN_TECH(FILE_PATH, SAVE_PATH, train)\n",
        "train.to_csv(SAVE_PATH+\"/green_tech_train.csv\", index= False)"
      ]
    },
    {
      "cell_type": "markdown",
      "metadata": {},
      "source": [
        "test"
      ]
    },
    {
      "cell_type": "code",
      "execution_count": null,
      "metadata": {},
      "outputs": [],
      "source": [
        "from green_tech import GREEN_TECH\n",
        "os.chdir(FILE_PATH)\n",
        "test=GREEN_TECH(FILE_PATH, SAVE_PATH, test)\n",
        "test.to_csv(SAVE_PATH+\"/green_tech_test.csv\", index= False)"
      ]
    },
    {
      "cell_type": "markdown",
      "metadata": {},
      "source": [
        "### DART_API features \n",
        "- div_cur \n",
        "- div_change\t\n",
        "- major_hldr\t\n",
        "- minor_hldr\t\n",
        "- outer_dir\t\n",
        "- dir_gender\t\n",
        "- total_emp\t\n",
        "- emp_gender\n",
        "\n",
        "dart_feature.py 터미널에서 따로 실행 (노트북 사용시 출력 오류 잦음)"
      ]
    },
    {
      "cell_type": "markdown",
      "metadata": {},
      "source": [
        "### re_emp_ratio, work_year, salary "
      ]
    },
    {
      "cell_type": "markdown",
      "metadata": {},
      "source": [
        "- 크롤링한 피쳐 정보를 일단 txt로 저장한 후, 불러오는 방식으로 진행합니다 (TXT_PATH = 텍스트 파일의 경로)\n",
        "피쳐별이 아닌, train/test 로 먼저 나누어서 각각의 코드를 돌려주시면 됩니다\n",
        "\n",
        "- 첫 상단의 코드 실행 후, return 값으로도 결과를 받을 수 있고 '정규직수_train.txt','평균급여_train.txt' 의 형태로도 받을 수 있습니다. "
      ]
    },
    {
      "cell_type": "code",
      "execution_count": 1,
      "metadata": {},
      "outputs": [],
      "source": [
        "train=pd.read_excel(FILE_PATH + \"/train.xlsx\")\n",
        "train.rename(columns = {'종목코드':\"CODE\",'종목명':\"CO_NM\"},inplace=True)\n",
        "train['CODE'] = train['CODE'].apply(lambda x : str(x).zfill(6))\n",
        "train=train[[\"CO_NM\",\"CODE\"]]\n",
        "\n",
        "test=pd.read_excel(FILE_PATH + \"/test.xlsx\")\n",
        "test.rename(columns = {'종목코드':\"CODE\",'종목명':\"CO_NM\"},inplace=True)\n",
        "test['CODE'] = test['CODE'].apply(lambda x : str(x).zfill(6))\n",
        "test=test[[\"CO_NM\",\"CODE\"]]"
      ]
    },
    {
      "cell_type": "markdown",
      "metadata": {},
      "source": [
        "#### train"
      ]
    },
    {
      "cell_type": "code",
      "execution_count": 2,
      "metadata": {},
      "outputs": [],
      "source": [
        "from employee import get_employee, WORK_YEAR, SALARY, RE_EMP_RATIO\n",
        "\n",
        "TXT_PATH = '/Users/jeeho/lab/miraeasset/mirae_env/최종/dataout/employee_txt'    # \n",
        "per_emp, work_year, salary  = get_employee(FILE_PATH, TXT_PATH, train, 1) # 크롤링 시, 웹사이트 하단까지 보이도록 화면축소시킨 상태에서 진행해야합니다"
      ]
    },
    {
      "cell_type": "markdown",
      "metadata": {},
      "source": [
        "총 직원 수를 결측치 먼저 채우고 아래의 데이터 수집(정규직비율, 근속연수, 평균급여)을 진행합니다"
      ]
    },
    {
      "cell_type": "code",
      "execution_count": null,
      "metadata": {},
      "outputs": [],
      "source": [
        "emp = pd.read_csv(SAVE_PATH+\"/dart_feature_train.csv\")\n",
        "train = emp[[\"CODE\",\"CO_NM\",\"total_emp\"]]\n",
        "train['CODE'] = train['CODE'].apply(lambda x : str(x).zfill(6))\n",
        "\n",
        "#emp[\"CO_NM\"][emp.total_emp.isna()]\n",
        "train['total_emp'][train['CO_NM']=='대한전선']=883\n",
        "train['total_emp'][train['CO_NM']=='휠라홀딩스']=68\n",
        "train['total_emp'][train['CO_NM']=='한샘']=2540\n",
        "train['total_emp'][train['CO_NM']=='대성홀딩스']=39\n",
        "train['total_emp'][train['CO_NM']=='하나투어']=1180      \n",
        "train['total_emp'][train['CO_NM']=='흥아해운']=344\n",
        "train['total_emp'][train['CO_NM']=='HDC']=11\n",
        "train['total_emp'][train['CO_NM']=='롯데푸드']=1940\n",
        "train['total_emp'][train['CO_NM']=='지역난방공사']=2201\n",
        "train['total_emp'][train['CO_NM']=='에이프로젠 MED']=69\n",
        "train['total_emp'][train['CO_NM']=='SBS미디어홀딩스']=8\n",
        "train['total_emp'][train['CO_NM']=='태영건설']=1632\n",
        "train['total_emp'][train['CO_NM']=='대한제분']=367\n",
        "train['total_emp'][train['CO_NM']=='쎌마테라퓨틱스']=5\n",
        "train['total_emp'][train['CO_NM']=='동방']=735\n",
        "train['total_emp'][train['CO_NM']=='보락']=136\n",
        "train['total_emp'][train['CO_NM']=='대원화성']=163\n",
        "train['total_emp'][train['CO_NM']=='삼영화학']=198\n",
        "train['total_emp'][train['CO_NM']=='영흥']=448\n",
        "train['total_emp'][train['CO_NM']=='폴루스바이오팜']=40\n",
        "train['total_emp'][train['CO_NM']=='SK머티리얼즈']=868\n",
        "train['total_emp'][train['CO_NM']=='동화기업']=769\n",
        "train['total_emp'][train['CO_NM']=='하림지주']=58\n",
        "train['total_emp'][train['CO_NM']=='넥슨지티']=186\n",
        "train['total_emp'][train['CO_NM']=='인선이엔티']=418\n",
        "train['total_emp'][train['CO_NM']=='에넥스']=259"
      ]
    },
    {
      "cell_type": "markdown",
      "metadata": {},
      "source": [
        "##### re_emp_ratio-train\n",
        "- total_emp의 결측치 채운 다음 진행"
      ]
    },
    {
      "cell_type": "code",
      "execution_count": 4,
      "metadata": {},
      "outputs": [],
      "source": [
        "train=RE_EMP_RATIO(TXT_PATH, train,1)\n",
        "train.to_csv(SAVE_PATH+\"/re_emp_ratio_train.csv\", index= False)"
      ]
    },
    {
      "cell_type": "markdown",
      "metadata": {},
      "source": [
        "##### work_year  - train\n",
        "- total_emp 구하고, 결측치 채운 다음 진행"
      ]
    },
    {
      "cell_type": "code",
      "execution_count": null,
      "metadata": {},
      "outputs": [],
      "source": [
        "train=WORK_YEAR(TXT_PATH, train,1)\n",
        "train.to_csv(SAVE_PATH+\"/work_year_train.csv\", index= False)"
      ]
    },
    {
      "cell_type": "markdown",
      "metadata": {
        "id": "7EaNUTVVEMuE"
      },
      "source": [
        "##### salary - train"
      ]
    },
    {
      "cell_type": "code",
      "execution_count": null,
      "metadata": {},
      "outputs": [],
      "source": [
        "train=SALARY(TXT_PATH, train,1)\n",
        "train.to_csv(SAVE_PATH+\"/salary_train.csv\", index= False)"
      ]
    },
    {
      "cell_type": "markdown",
      "metadata": {},
      "source": [
        "#### test"
      ]
    },
    {
      "cell_type": "code",
      "execution_count": null,
      "metadata": {},
      "outputs": [],
      "source": [
        "from employee import get_employee, WORK_YEAR, SALARY, RE_EMP_RATIO\n",
        "\n",
        "TXT_PATH = '/Users/jeeho/lab/miraeasset/mirae_env/최종/dataout/employee_txt'    # 피쳐 정보를 일단 txt로 저장한 후, 불러오는 방식으로 진행\n",
        "per_emp, work_year, salary  = get_employee(FILE_PATH, TXT_PATH, train, 1) # 크롤링 시, 웹사이트 하단까지 보이도록 화면축소시킨 상태에서 진행해야합니다"
      ]
    },
    {
      "cell_type": "code",
      "execution_count": null,
      "metadata": {},
      "outputs": [],
      "source": [
        "emp = pd.read_csv(SAVE_PATH+\"/dart_feature_test.csv\")\n",
        "test = emp[[\"CODE\",\"CO_NM\",\"total_emp\"]]\n",
        "test['CODE'] = test['CODE'].apply(lambda x : str(x).zfill(6))\n",
        "\n",
        "test['total_emp'][test['CO_NM']=='메리츠증권']=1556\n",
        "#test['total_emp'][test['CO_NM']=='부산가스']= 상장폐지\n",
        "test['total_emp'][test['CO_NM']=='효성중공업']= 6250\n",
        "test['total_emp'][test['CO_NM']=='남해화학']= 493\n",
        "#test['total_emp'][test['CO_NM']=='엔에스쇼핑']=상장폐지\n",
        "test['total_emp'][test['CO_NM']=='벽산']= 312\n",
        "test['total_emp'][test['CO_NM']=='태경케미컬']= 106\n",
        "test['total_emp'][test['CO_NM']=='무림페이퍼']= 459\n",
        "test['total_emp'][test['CO_NM']=='센트랄모텍']= 147\n",
        "test['total_emp'][test['CO_NM']=='컨버즈']= 53\n",
        "test['total_emp'][test['CO_NM']=='TBH글로벌']= 310\n",
        "test['total_emp'][test['CO_NM']=='이베스트투자증권']= 587\n",
        "test['total_emp'][test['CO_NM']=='하림']= 2281\n"
      ]
    },
    {
      "cell_type": "code",
      "execution_count": null,
      "metadata": {},
      "outputs": [],
      "source": [
        "\n",
        "test=RE_EMP_RATIO(TXT_PATH,  test,0)\n",
        "test.to_csv(SAVE_PATH+\"/re_emp_ratio_test.csv\", index= False)\n",
        "\n",
        "test= WORK_YEAR(TXT_PATH, test,0)\n",
        "test.to_csv(SAVE_PATH+\"/work_year_test.csv\", index= False)\n",
        "\n",
        "test= SALARY(TXT_PATH, test,0)\n",
        "test.to_csv(SAVE_PATH+\"/salary_test.csv\", index= False)"
      ]
    },
    {
      "cell_type": "markdown",
      "metadata": {
        "id": "rYjOnn58EQLz"
      },
      "source": [
        "### salary_female "
      ]
    },
    {
      "cell_type": "code",
      "execution_count": 2,
      "metadata": {},
      "outputs": [],
      "source": [
        "train=pd.read_excel(FILE_PATH + \"/train.xlsx\")\n",
        "train.rename(columns = {'종목코드':\"CODE\",'종목명':\"CO_NM\"},inplace=True)\n",
        "train['CODE'] = train['CODE'].apply(lambda x : str(x).zfill(6))\n",
        "train=train[[\"CO_NM\",\"CODE\"]]\n",
        "\n",
        "test=pd.read_excel(FILE_PATH + \"/test.xlsx\")\n",
        "test.rename(columns = {'종목코드':\"CODE\",'종목명':\"CO_NM\"},inplace=True)\n",
        "test['CODE'] = test['CODE'].apply(lambda x : str(x).zfill(6))\n",
        "test=test[[\"CO_NM\",\"CODE\"]]"
      ]
    },
    {
      "cell_type": "markdown",
      "metadata": {},
      "source": [
        "크롤링이 시작되면, 웹 하단까지 들어오도록 화면 크기를 조절해주세요 (cmd -)"
      ]
    },
    {
      "cell_type": "code",
      "execution_count": null,
      "metadata": {},
      "outputs": [],
      "source": [
        "from female_salary import FEMALE_SALARY\n",
        "TXT_PATH = '/Users/jeeho/lab/miraeasset/mirae_env/최종/dataout/employee_txt'\n",
        "\n",
        "train = FEMALE_SALARY(FILE_PATH, train[:3],1)\n",
        "#train.to_csv(SAVE_PATH+\"/FEMALE_SALARY_train.csv\", index= False)"
      ]
    },
    {
      "cell_type": "code",
      "execution_count": 37,
      "metadata": {},
      "outputs": [
        {
          "name": "stderr",
          "output_type": "stream",
          "text": [
            "/var/folders/sw/6ktndwmx7nld2gbqdd0c9g540000gn/T/ipykernel_1686/2004561060.py:22: DeprecationWarning: executable_path has been deprecated, please pass in a Service object\n",
            "  driver = webdriver.Chrome(FILE_PATH+\"/chromedriver\") # xattr -d com.apple.quarantine chromedriver\n"
          ]
        }
      ],
      "source": [
        "import os\n",
        "import numpy as np\n",
        "import requests\n",
        "import pandas as pd\n",
        "from bs4 import BeautifulSoup\n",
        "import regex\n",
        "import re\n",
        "from selenium import webdriver\n",
        "from selenium.webdriver.support.ui import WebDriverWait\n",
        "from selenium.webdriver.support import expected_conditions as EC\n",
        "from selenium.webdriver.common.by import By\n",
        "from selenium.webdriver.support.ui import Select\n",
        "import time\n",
        "\n",
        "total_per=[]\n",
        "total_money=[]\n",
        "report,year = '사업보고서','2021' # 첫 시도 -> 직전 연도 사업보고서\n",
        "stock_code='000660'\n",
        "\n",
        "\n",
        "\n",
        "driver = webdriver.Chrome(FILE_PATH+\"/chromedriver\") # xattr -d com.apple.quarantine chromedriver\n",
        "wait = WebDriverWait(driver, 10)\n",
        "driver.get('https://opendart.fss.or.kr/disclosureinfo/biz/main.do')\n",
        "time.sleep(2)\n",
        "search_box = driver.find_element('xpath','//*[@id=\"searchForm\"]/table[1]/tbody/tr[1]/td/span[2]/button').click()\n",
        "element = wait.until(EC.visibility_of_element_located((By.XPATH, '//*[@id=\"corpSearchForm\"]/div[1]/ul/li[3]/button')))\n",
        "time.sleep(1)\n",
        "search_box = driver.find_element('xpath','//*[@id=\"textCrpNm\"]')\n",
        "search_box.send_keys(stock_code)\n",
        "search_box = driver.find_element('xpath','//*[@id=\"corpSearchForm\"]/div[1]/ul/li[3]/button').click()\n",
        "time.sleep(1)\n",
        "element = wait.until(EC.visibility_of_element_located((By.XPATH, '//*[@id=\"allCheckSel\"]')))\n",
        "search_start = driver.find_element('xpath','//*[@id=\"allCheckSel\"]').click()\n",
        "search_start = driver.find_element('xpath','//*[@id=\"layerPop01\"]/div[2]/div[2]/button[1]/span').click()\n",
        "time.sleep(1)\n",
        "search_start = driver.find_element('xpath','//*[@id=\"layerPop01\"]/div[3]/button[1]').click()\n",
        "select = Select(driver.find_element('xpath','//*[@id=\"selectYear\"]'))\n",
        "select.select_by_value(year)\n",
        "select = Select(driver.find_element('xpath','//*[@id=\"reportCode\"]'))\n",
        "select.select_by_visible_text(report)\n",
        "search_start = driver.find_element('xpath','//*[@id=\"gubun_b\"]').click()\n",
        "search_start = driver.find_element('xpath','//*[@id=\"contents\"]/div[8]/span/button').click()\n",
        "element = wait.until(EC.visibility_of_element_located((By.XPATH, '//*[@id=\"listContents\"]/div[1]/table/tbody/tr[1]/td[11]')))\n",
        "table = driver.find_element('xpath','//*[@id=\"listContents\"]/div[1]/table/tbody')\n",
        "per_sum=[]\n",
        "money_sum=[]\n",
        "for tr in table.find_elements(By.TAG_NAME,'tr'):\n",
        "    td = tr.find_elements(By.TAG_NAME,\"td\")\n",
        "    if td[2].text == '여': \n",
        "        per_sum.append(td[10].text)\n",
        "        money_sum.append(td[13].text)\n",
        "    total_per.append(td[10].text)\n",
        "    total_money.append(td[13].text)\n",
        "                "
      ]
    },
    {
      "cell_type": "code",
      "execution_count": null,
      "metadata": {},
      "outputs": [
        {
          "name": "stderr",
          "output_type": "stream",
          "text": [
            "/var/folders/sw/6ktndwmx7nld2gbqdd0c9g540000gn/T/ipykernel_1686/2609273141.py:3: DeprecationWarning: executable_path has been deprecated, please pass in a Service object\n",
            "  driver = webdriver.Chrome(FILE_PATH+\"/chromedriver\") # xattr -d com.apple.quarantine chromedriver\n"
          ]
        }
      ],
      "source": [
        "\n",
        "                \n",
        "                \n",
        "                "
      ]
    },
    {
      "cell_type": "code",
      "execution_count": 38,
      "metadata": {},
      "outputs": [
        {
          "data": {
            "text/plain": [
              "(['19,529', '10,606'],\n",
              " ['10,606'],\n",
              " ['95,385,000'],\n",
              " ['126,168,000', '95,385,000'])"
            ]
          },
          "execution_count": 38,
          "metadata": {},
          "output_type": "execute_result"
        }
      ],
      "source": [
        "total_per,per_sum,money_sum,total_money"
      ]
    },
    {
      "cell_type": "code",
      "execution_count": 21,
      "metadata": {},
      "outputs": [
        {
          "data": {
            "text/plain": [
              "[19529, 10606]"
            ]
          },
          "execution_count": 21,
          "metadata": {},
          "output_type": "execute_result"
        }
      ],
      "source": [
        "total_per"
      ]
    },
    {
      "cell_type": "code",
      "execution_count": 39,
      "metadata": {},
      "outputs": [],
      "source": [
        "for i in range(len(total_per)):      #per 계산을 위한 처리 \n",
        "    if total_money[i] == []:\n",
        "        total_money[i] = [0]\n",
        "        \n",
        "    for i in range(len(total_per)):\n",
        "        #for j in range(len(total_per[i])):\n",
        "        if total_per[i] != '-':\n",
        "            total_per[i] = str(total_per[i]).replace(',','')\n",
        "    for i in range(len(total_per)):\n",
        "        #for j in range(len(total_per[i])):\n",
        "        if total_per[i] != '-':\n",
        "            total_per[i]= int(total_per[i])\n",
        "    for i in range(len(total_money)):                    # money 계산을 위한 처리 \n",
        "        if total_money[i] == 0:\n",
        "            total_money[i] = [0]\n",
        "    for i in range(len(total_money)):\n",
        "        #for j in range(len(total_money[i])):\n",
        "        if total_money[i]!= '-':\n",
        "            total_money[i] = str(total_money[i]).replace(',','')\n",
        "    for i in range(len(total_money)):\n",
        "        #for j in range(len(total_money[i])):\n",
        "            if total_money[i] != '-':\n",
        "                total_money[i]= int(total_money[i])\n",
        "    for i in range(len(total_money)):\n",
        "        #for j in range(len(total_money[i])):\n",
        "            if total_money[i] == '-':\n",
        "                total_money[i] = 0\n",
        "                total_per[i] = 0\n",
        "                            \n",
        "    female_salary=[]\n",
        "                "
      ]
    },
    {
      "cell_type": "code",
      "execution_count": 40,
      "metadata": {},
      "outputs": [
        {
          "data": {
            "text/plain": [
              "[126168000, 95385000]"
            ]
          },
          "execution_count": 40,
          "metadata": {},
          "output_type": "execute_result"
        }
      ],
      "source": [
        "total_money"
      ]
    },
    {
      "cell_type": "code",
      "execution_count": 30,
      "metadata": {},
      "outputs": [
        {
          "ename": "TypeError",
          "evalue": "object of type 'int' has no len()",
          "output_type": "error",
          "traceback": [
            "\u001b[0;31m---------------------------------------------------------------------------\u001b[0m",
            "\u001b[0;31mTypeError\u001b[0m                                 Traceback (most recent call last)",
            "Cell \u001b[0;32mIn [30], line 2\u001b[0m\n\u001b[1;32m      1\u001b[0m \u001b[39mfor\u001b[39;00m i \u001b[39min\u001b[39;00m \u001b[39mrange\u001b[39m(\u001b[39mlen\u001b[39m(total_money)):\n\u001b[0;32m----> 2\u001b[0m     \u001b[39mif\u001b[39;00m \u001b[39mlen\u001b[39;49m(total_money[i]) \u001b[39m==\u001b[39m \u001b[39m1\u001b[39m :\n\u001b[1;32m      3\u001b[0m         female_salary\u001b[39m.\u001b[39mappend(total_money[i][\u001b[39m0\u001b[39m])\n",
            "\u001b[0;31mTypeError\u001b[0m: object of type 'int' has no len()"
          ]
        }
      ],
      "source": [
        "for i in range(len(total_money)):\n",
        "    if len(total_money) == 1 :\n",
        "        female_salary.append(total_money[i][0])"
      ]
    },
    {
      "cell_type": "code",
      "execution_count": null,
      "metadata": {},
      "outputs": [],
      "source": [
        "for i in range(len(total_money)):\n",
        "    if len(total_money) == 1 :\n",
        "        female_salary.append(total_money[i][0])\n",
        "        \n",
        "    else : \n",
        "        girl = 0\n",
        "        for j in range(len(total_money[i])):\n",
        "            girl+= total_money[i][j] * total_per[i][j]\n",
        "        if sum(total_per[i]) != 0:\n",
        "            girl /=  sum(total_per[i])\n",
        "        else : \n",
        "            girl = 0 \n",
        "            female_salary.append(girl)"
      ]
    },
    {
      "cell_type": "code",
      "execution_count": null,
      "metadata": {},
      "outputs": [],
      "source": []
    },
    {
      "cell_type": "code",
      "execution_count": null,
      "metadata": {},
      "outputs": [],
      "source": []
    },
    {
      "cell_type": "code",
      "execution_count": null,
      "metadata": {},
      "outputs": [],
      "source": [
        "from female_salary import FEMALE_SALARY\n",
        "TXT_PATH = '/Users/jeeho/lab/miraeasset/mirae_env/최종/dataout/employee_txt'\n",
        "\n",
        "test  = FEMALE_SALARY(FILE_PATH, SAVE_PATH, test,0)\n",
        "test.to_csv(SAVE_PATH+\"/FEMALE_SALARY_test.csv\", index= False)"
      ]
    },
    {
      "cell_type": "markdown",
      "metadata": {
        "id": "0IcPQVn-EQTE"
      },
      "source": [
        "### dir_pay "
      ]
    },
    {
      "cell_type": "code",
      "execution_count": 1,
      "metadata": {},
      "outputs": [],
      "source": [
        "train=pd.read_excel(FILE_PATH + \"/train.xlsx\")\n",
        "train.rename(columns = {'종목코드':\"CODE\",'종목명':\"CO_NM\"},inplace=True)\n",
        "train['CODE'] = train['CODE'].apply(lambda x : str(x).zfill(6))\n",
        "train=train[[\"CO_NM\",\"CODE\"]]\n",
        "\n",
        "test=pd.read_excel(FILE_PATH + \"/test.xlsx\")\n",
        "test.rename(columns = {'종목코드':\"CODE\",'종목명':\"CO_NM\"},inplace=True)\n",
        "test['CODE'] = test['CODE'].apply(lambda x : str(x).zfill(6))\n",
        "test=test[[\"CO_NM\",\"CODE\"]]"
      ]
    },
    {
      "cell_type": "markdown",
      "metadata": {},
      "source": [
        "train"
      ]
    },
    {
      "cell_type": "code",
      "execution_count": null,
      "metadata": {},
      "outputs": [],
      "source": [
        "from dir_pay import get_dir_pay, list2dict\n",
        "\n",
        "train_dir_pay = get_dir_pay(FILE_PATH, train, 1)\n",
        "dir_pay_dict = dict()\n",
        "dir_pay_dict= list2dict(train_dir_pay, dir_pay_dict)  # 기업에 대해 이사 보수를 최종 산출한 결과\n",
        "\n",
        "train[\"dir_pay\"]=np.NaN\n",
        "for k,v in dir_pay_dict.items():\n",
        "  train[\"dir_pay\"][train[\"CODE\"]==k]=v\n",
        "  \n",
        "train.to_csv(SAVE_PATH+\"/DIR_PAY_train.csv\", index= False)\n"
      ]
    },
    {
      "cell_type": "markdown",
      "metadata": {},
      "source": [
        "test"
      ]
    },
    {
      "cell_type": "code",
      "execution_count": 12,
      "metadata": {},
      "outputs": [],
      "source": [
        "from dir_pay import get_dir_pay, list2dict\n",
        "\n",
        "test_dir_pay = get_dir_pay(FILE_PATH, test,0)\n",
        "div_pay_dict = dict()\n",
        "dir_pay_dict=list2dict(test_dir_pay, div_pay_dict)\n",
        " \n",
        "test[\"dir_pay\"]=np.NaN \n",
        "for k,v in div_pay_dict.items():\n",
        "  test[\"dir_pay\"][test[\"CODE\"]==k]=v\n",
        "  \n",
        "  \n",
        "test.to_csv(SAVE_PATH+\"/DIR_PAY_test.csv\", index= False)\n"
      ]
    },
    {
      "cell_type": "markdown",
      "metadata": {
        "id": "eZtUuA1HEQao"
      },
      "source": [
        "### news_keyword "
      ]
    },
    {
      "cell_type": "markdown",
      "metadata": {},
      "source": [
        "##### 기업별 금융 뉴스 타이틀 크롤링"
      ]
    },
    {
      "cell_type": "code",
      "execution_count": null,
      "metadata": {},
      "outputs": [],
      "source": [
        "from news_crawler import save2df\n",
        "\n",
        "TRAIN_PATH = \"/Users/jeeho/lab/miraeasset/mirae_env/최종/news/train_news\"  #train의 뉴스 크롤링을 저장할 폴더\n",
        "TEST_PATH =  \"/Users/jeeho/lab/miraeasset/mirae_env/최종/news/test_news\"#test의 뉴스 크롤링을 저장할 폴더\n",
        "\n",
        "FILE_PATH = '/Users/jeeho/lab/miraeasset/mirae_env/최종/data'   # train.xlsx, test.xlsx\n",
        "\n",
        "save2df(FILE_PATH,TRAIN_PATH ,1)   \n",
        "save2df(FILE_PATH,TEST_PATH ,0)"
      ]
    },
    {
      "cell_type": "markdown",
      "metadata": {},
      "source": [
        "##### 키워드 카운트 - 뉴스 크롤링 결과로부터 "
      ]
    },
    {
      "cell_type": "code",
      "execution_count": null,
      "metadata": {},
      "outputs": [],
      "source": [
        "train=pd.read_excel(FILE_PATH + \"/train.xlsx\")\n",
        "train.rename(columns = {'종목코드':\"CODE\",'종목명':\"CO_NM\"},inplace=True)\n",
        "train['CODE'] = train['CODE'].apply(lambda x : str(x).zfill(6))\n",
        "train=train[[\"CO_NM\",\"CODE\"]]\n",
        "\n",
        "test=pd.read_excel(FILE_PATH + \"/test.xlsx\")\n",
        "test.rename(columns = {'종목코드':\"CODE\",'종목명':\"CO_NM\"},inplace=True)\n",
        "test['CODE'] = test['CODE'].apply(lambda x : str(x).zfill(6))\n",
        "test=test[[\"CO_NM\",\"CODE\"]]"
      ]
    },
    {
      "cell_type": "code",
      "execution_count": null,
      "metadata": {},
      "outputs": [],
      "source": [
        "from count_word_news import keyword_rate\n",
        "\n",
        "train = keyword_rate(TRAIN_PATH, train)\n",
        "train.to_csv(SAVE_PATH+\"/news_train.csv\", index= False)\n",
        "\n",
        "test = keyword_rate(TEST_PATH, test)\n",
        "test.to_csv(SAVE_PATH+\"/news_test.csv\", index= False)"
      ]
    },
    {
      "cell_type": "markdown",
      "metadata": {},
      "source": [
        "### report_keyword "
      ]
    },
    {
      "cell_type": "markdown",
      "metadata": {},
      "source": [
        "1. <사업보고서 원본파일 다운로드> download_report.py 실행 (터미널에서)\n",
        "    - 사용자 지정\n",
        "        * XML_PATH_test/train : 사업보고서 원본파일을 다운받을 경로 (zip -> xml 형태)\n",
        "        * TXT_PATH_test/train : 사업보고서를 텍스트 파일로 변환/저장할 경로 \n",
        "    - 경로 내 파일 확인 \n",
        "        * FILE_PATH: rcept_no_train.csv, rcept_no_test.csv , train.xlsx, test.xlsx 있는지 확인\n",
        "         \n",
        "\n",
        "2. <사업보고서 내 키워드 카운트> report_word 함수 실행 (아래 코드 참고)\n"
      ]
    },
    {
      "cell_type": "code",
      "execution_count": null,
      "metadata": {},
      "outputs": [],
      "source": [
        "import pandas as pd\n",
        "import numpy as np\n",
        "import os\n",
        "#from download_report -> 노트북에서 실행시 오류 생깁니다. download_report.py 파일을 터미널에서 돌려야합니다\n",
        "from count_word_report import report_word\n",
        "\n",
        "PATH = os.getcwd()  \n",
        "FILE_PATH = '/Users/jeeho/lab/miraeasset/mirae_env/최종/data' # train.xlsx, test.xlsx \n",
        "SAVE_PATH = '/Users/jeeho/lab/miraeasset/mirae_env/최종/dataout'\n",
        "\n",
        "\n",
        "train=pd.read_excel(FILE_PATH + \"/train.xlsx\")\n",
        "train.rename(columns = {'종목코드':\"CODE\",'종목명':\"CO_NM\"},inplace=True)\n",
        "train['CODE'] = train['CODE'].apply(lambda x : str(x).zfill(6))\n",
        "train=train[[\"CO_NM\",\"CODE\"]]\n",
        "\n",
        "test=pd.read_excel(FILE_PATH + \"/test.xlsx\")\n",
        "test.rename(columns = {'종목코드':\"CODE\",'종목명':\"CO_NM\"},inplace=True)\n",
        "test['CODE'] = test['CODE'].apply(lambda x : str(x).zfill(6))\n",
        "test=test[[\"CO_NM\",\"CODE\"]]\n"
      ]
    },
    {
      "cell_type": "markdown",
      "metadata": {},
      "source": [
        "##### 사업보고서 키워드 카운트 "
      ]
    },
    {
      "cell_type": "code",
      "execution_count": null,
      "metadata": {},
      "outputs": [],
      "source": [
        "from count_word_report import report_word\n",
        "\n",
        "TXT_PATH_train = \"/Users/jeeho/lab/miraeasset/mirae_env/최종/dataout/report/train/txt\"# 사업보고서 텍스트 파일이 저장된 경로\n",
        "TXT_PATH_test = \"/Users/jeeho/lab/miraeasset/mirae_env/최종/dataout/report/test/txt\"# 사업보고서 텍스트 파일이 저장된 경로\n",
        "\n",
        "\n",
        "train = report_word(PATH, TXT_PATH_train ,train,1)\n",
        "test = report_word(PATH, TXT_PATH_test ,test,0)\n",
        "\n",
        "\n",
        "train.to_csv(SAVE_PATH+\"/keyword_train.csv\", index= False)\n",
        "test.to_csv(SAVE_PATH+\"/keyword_test.csv\", index= False)"
      ]
    }
  ],
  "metadata": {
    "colab": {
      "collapsed_sections": [
        "1I_73r4r71As",
        "qPA4300yBVJI",
        "KiQgNj1f2FHl",
        "3DRCoHKEBFAp",
        "oObQuFzlCJKJ",
        "q2X6UtokGKG7"
      ],
      "provenance": []
    },
    "kernelspec": {
      "display_name": "Python 3.9.6 ('mirae_env': venv)",
      "language": "python",
      "name": "python3"
    },
    "language_info": {
      "codemirror_mode": {
        "name": "ipython",
        "version": 3
      },
      "file_extension": ".py",
      "mimetype": "text/x-python",
      "name": "python",
      "nbconvert_exporter": "python",
      "pygments_lexer": "ipython3",
      "version": "3.9.6"
    },
    "vscode": {
      "interpreter": {
        "hash": "64d866ef73fd4523bcbd3f968064e7d4c18f8765ec835329228ef1977468bff9"
      }
    }
  },
  "nbformat": 4,
  "nbformat_minor": 0
}
