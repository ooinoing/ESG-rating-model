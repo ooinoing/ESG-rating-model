{
 "cells": [
  {
   "cell_type": "markdown",
   "metadata": {},
   "source": [
    "# feature_merge.py\n",
    "- 각 feature에 대한 csv 파일을 하나의 dataframe, csv로 합치는 과정"
   ]
  },
  {
   "cell_type": "code",
   "execution_count": null,
   "metadata": {},
   "outputs": [],
   "source": [
    "import pandas as pd\n",
    "import numpy as np\n",
    "\n",
    "PATH = '/Users/jeeho/lab/miraeasset/mirae_env/최종/data'    # train.xlsx, test.xlsx\n",
    "FILE_PATH = '/Users/jeeho/lab/miraeasset/mirae_env/최종/data' # train.xlsx, test.xlsx\n",
    "SAVE_PATH = '/Users/jeeho/lab/miraeasset/mirae_env/최종/dataout' # 각 feature"
   ]
  },
  {
   "cell_type": "markdown",
   "metadata": {},
   "source": [
    "### Train feature merge"
   ]
  },
  {
   "cell_type": "code",
   "execution_count": null,
   "metadata": {},
   "outputs": [],
   "source": [
    "\n",
    "train=pd.read_excel(FILE_PATH + \"/train.xlsx\")\n",
    "train.rename(columns = {'종목코드':\"CODE\",'종목명':\"CO_NM\"},inplace=True)\n",
    "train['CODE'] = train['CODE'].apply(lambda x : str(x).zfill(6))\n",
    "train=train[[\"CO_NM\",\"CODE\"]]\n",
    "\n",
    "\n",
    "type = pd.read_csv(PATH+\"/type_train.csv\")  \n",
    "age = pd.read_csv(PATH+\"/AGE_train.csv\")  \n",
    "opos = pd.read_csv(PATH+\"/OPOS_train.csv\")\n",
    "noe = pd.read_csv(PATH+\"/NOE_train.csv\") \n",
    "cr = pd.read_csv(PATH+\"/CR_train.csv\")\n",
    "dr = pd.read_csv(PATH+\"/DR_train.csv\")\n",
    "per_pbr_dvr = pd.read_csv(PATH+\"/per_pbr_dvr_train.csv\") \n",
    "size = pd.read_csv(PATH+\"/SIZE_train.csv\")\n",
    "dart_feature = pd.read_csv(PATH+\"/dart_feature_train.csv\")\n",
    "esg_report = pd.read_csv(PATH+\"/esg_report_train.csv\")\n",
    "gov_report = pd.read_csv(PATH+\"/gov_report_train.csv\")\n",
    "green_bond = pd.read_csv(PATH+\"/green_bond_train.csv\")\n",
    "green_corp = pd.read_csv(PATH+\"/green_corp_train.csv\")\n",
    "green_tech = pd.read_csv(PATH+\"/green_tech_train.csv\")\n",
    "re_emp_ratio =  pd.read_csv(PATH+\"re_emp_ratio_train.csv\")\n",
    "work_year = pd.read_csv(PATH+\"work_year_train.csv\")\n",
    "salary = pd.read_csv(PATH+\"salary_train.csv\") \n",
    "salary_female = pd.read_csv(PATH+\"FEMALE_SALARY_train.csv\") \n",
    "dir_pay = pd.read_csv(PATH+\"DIR_PAY_train.csv\") \n",
    "news = pd.read_csv(PATH+\"news_train.csv\") \n",
    "keyword = pd.read_csv(PATH+\"keyword_train.csv\")\n",
    "\n",
    "train = pd.merge(train, type,on=['CO_NM','CODE'],how='left')\n",
    "train = pd.merge(train, age,on=['CO_NM','CODE'],how='left')\n",
    "train = pd.merge(train, opos,on=['CODE'],how='left')\n",
    "train = pd.merge(train, noe,on=['CO_NM','CODE'],how='left')\n",
    "train = pd.merge(train, cr,on=['CODE'],how='left')\n",
    "train = pd.merge(train, dr,on=['CO_NM','CODE'],how='left')  ### dr 크롤링한 결과 파일 체크\n",
    "train = pd.merge(train, per_pbr_dvr,on=['CO_NM','CODE'],how='left')\n",
    "train = pd.merge(train, size,on=['CO_NM','CODE'],how='left')\n",
    "train = pd.merge(train, dart_feature,on=['CO_NM','CODE'],how='left')\n",
    "train = pd.merge(train, esg_report,on=['CO_NM','CODE'],how='left')\n",
    "train = pd.merge(train, gov_report,on=['CO_NM','CODE'],how='left')\n",
    "train = pd.merge(train, green_bond,on=['CODE'],how='left')\n",
    "train = pd.merge(train, green_corp,on=['CO_NM','CODE'],how='left')\n",
    "train = pd.merge(train, re_emp_ratio,on=['CODE'],how='left')\n",
    "train = pd.merge(train, salary,on=['CODE'],how='left')\n",
    "train = pd.merge(train, salary_female,on=['CODE'],how='left')\n",
    "train = pd.merge(train, dir_pay,on=['CO_NM','CODE'],how='left')\n",
    "train = pd.merge(train, news,on=['CODE'],how='left')\n",
    "train = pd.merge(train, keyword,on=['CODE'],how='left')"
   ]
  },
  {
   "cell_type": "code",
   "execution_count": null,
   "metadata": {},
   "outputs": [],
   "source": [
    "train.to_csv(SAVE_PATH+\"/train_merged.csv\", index= False)"
   ]
  },
  {
   "cell_type": "markdown",
   "metadata": {},
   "source": [
    "### Test feature merge"
   ]
  },
  {
   "cell_type": "code",
   "execution_count": null,
   "metadata": {},
   "outputs": [],
   "source": [
    "test=pd.read_excel(FILE_PATH + \"/test.xlsx\")\n",
    "test.rename(columns = {'종목코드':\"CODE\",'종목명':\"CO_NM\"},inplace=True)\n",
    "test['CODE'] = test['CODE'].apply(lambda x : str(x).zfill(6))\n",
    "test=test[[\"CO_NM\",\"CODE\"]]\n",
    "\n",
    "\n",
    "type = pd.read_csv(PATH+\"/type_test.csv\")  \n",
    "age = pd.read_csv(PATH+\"/AGE_test.csv\")  \n",
    "opos = pd.read_csv(PATH+\"/OPOS_test.csv\")\n",
    "noe = pd.read_csv(PATH+\"/NOE_test.csv\") \n",
    "cr = pd.read_csv(PATH+\"/CR_test.csv\")\n",
    "dr = pd.read_csv(PATH+\"/DR_test.csv\")\n",
    "per_pbr_dvr = pd.read_csv(PATH+\"/per_pbr_dvr_test.csv\") \n",
    "size = pd.read_csv(PATH+\"/SIZE_test.csv\")\n",
    "dart_feature = pd.read_csv(PATH+\"/dart_feature_test.csv\")\n",
    "esg_report = pd.read_csv(PATH+\"/esg_report_test.csv\")\n",
    "gov_report = pd.read_csv(PATH+\"/gov_report_test.csv\")\n",
    "green_bond = pd.read_csv(PATH+\"/green_bond_test.csv\")\n",
    "green_corp = pd.read_csv(PATH+\"/green_corp_test.csv\")\n",
    "green_tech = pd.read_csv(PATH+\"/green_tech_test.csv\")\n",
    "re_emp_ratio =  pd.read_csv(PATH+\"re_emp_ratio_test.csv\")\n",
    "work_year = pd.read_csv(PATH+\"work_year_test.csv\")\n",
    "salary = pd.read_csv(PATH+\"salary_test.csv\") \n",
    "salary_female = pd.read_csv(PATH+\"FEMALE_SALARY_test.csv\") \n",
    "dir_pay = pd.read_csv(PATH+\"DIR_PAY_test.csv\") \n",
    "news = pd.read_csv(PATH+\"news_test.csv\") \n",
    "keyword = pd.read_csv(PATH+\"keyword_test.csv\")\n",
    "\n",
    "\n",
    "test = pd.merge(test, type,on=['CO_NM','CODE'],how='left')\n",
    "test = pd.merge(test, age,on=['CO_NM','CODE'],how='left')\n",
    "test = pd.merge(test, opos,on=['CODE'],how='left')\n",
    "test = pd.merge(test, noe,on=['CO_NM','CODE'],how='left')\n",
    "test = pd.merge(test, cr,on=['CODE'],how='left')\n",
    "test = pd.merge(test, dr,on=['CO_NM','CODE'],how='left')\n",
    "test = pd.merge(test, per_pbr_dvr,on=['CO_NM','CODE'],how='left')\n",
    "test = pd.merge(test, size,on=['CO_NM','CODE'],how='left')\n",
    "test = pd.merge(test, dart_feature,on=['CO_NM','CODE'],how='left')\n",
    "test = pd.merge(test, esg_report,on=['CO_NM','CODE'],how='left')\n",
    "test = pd.merge(test, gov_report,on=['CO_NM','CODE'],how='left')\n",
    "test = pd.merge(test, green_bond,on=['CODE'],how='left')\n",
    "test = pd.merge(test, green_corp,on=['CO_NM','CODE'],how='left')\n",
    "test = pd.merge(test, re_emp_ratio,on=['CO_NM','CODE'],how='left')\n",
    "test = pd.merge(test, salary,on=['CODE'],how='left')\n",
    "test = pd.merge(test, salary_female,on=['CODE'],how='left')\n",
    "test = pd.merge(test, dir_pay,on=['CO_NM','CODE'],how='left')\n",
    "test = pd.merge(test, news,on=['CODE'],how='left')\n",
    "test = pd.merge(test, keyword,on=['CODE'],how='left')\n"
   ]
  },
  {
   "cell_type": "code",
   "execution_count": null,
   "metadata": {},
   "outputs": [],
   "source": [
    "test.to_csv(SAVE_PATH+\"/test_merged.csv\", index= False)"
   ]
  },
  {
   "cell_type": "code",
   "execution_count": null,
   "metadata": {},
   "outputs": [],
   "source": [
    "'''\n",
    "#train.rename(columns = {'시장':'market','업종명':'type','현금배당성향_변화':'div_change','현금배당성향_당기':'div_cur','현금배당수익률':'div_yield', '대주주지분율':'major_hldr', '소액주주지분율':'minor_hldr', '사외이사비율':'outer_dir',\n",
    "                        '임원성비':'dir_gender', '직원수':'total_emp', '직원성비':'emp_gender',  'esg_공시':'esg_report', '지배구조_공시':'gov_report','녹색채권':'green_bond','녹색기업':'green_corp','녹색기술':'green_tech',\n",
    "                        '재해율(%)':'accident_rate', '규모별 동종 업종 평균 재해율':'aver_accident_ratio', '정규직비율':'re_emp_ratio', '근속연수':'work_year', '평균급여':'salary',\n",
    "                        '여성평균 급여':'salary_female', '이사보수':'dir_pay' }, inplace=True)\n",
    "\n",
    "test=test[['CODE', 'CO_NM', 'market', 'type', 'AGE','OPOS', 'NOE', 'CR', 'DR','PER', 'PBR', 'DVR','SIZE', 'div_cur',\n",
    "            'div_change', 'div_yield', 'major_hldr', 'minor_hldr', 'outer_dir', \n",
    "            'dir_gender', 'total_emp','emp_gender',  'esg_report', 'gov_report','green_bond','green_corp','green_tech',\n",
    "                'accident_rate', 'aver_accident_ratio', 're_emp_ratio', 'work_year', 'salary',\n",
    "                         'salary_female', 'dir_pay']]\n",
    "'''"
   ]
  }
 ],
 "metadata": {
  "kernelspec": {
   "display_name": "Python 3.9.6 ('mirae_env': venv)",
   "language": "python",
   "name": "python3"
  },
  "language_info": {
   "name": "python",
   "version": "3.9.6"
  },
  "orig_nbformat": 4,
  "vscode": {
   "interpreter": {
    "hash": "64d866ef73fd4523bcbd3f968064e7d4c18f8765ec835329228ef1977468bff9"
   }
  }
 },
 "nbformat": 4,
 "nbformat_minor": 2
}
