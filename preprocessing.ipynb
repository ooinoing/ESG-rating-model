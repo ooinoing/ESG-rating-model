{
 "cells": [
  {
   "cell_type": "markdown",
   "metadata": {},
   "source": [
    "## preprocessing"
   ]
  },
  {
   "cell_type": "code",
   "execution_count": null,
   "metadata": {},
   "outputs": [],
   "source": [
    "import pandas as pd\n",
    "import numpy as np\n",
    "\n",
    "PATH = '/Users/jeeho/lab/miraeasset/mirae_env/최종/data'    # train.xlsx, test.xlsx\n",
    "FILE_PATH = '/Users/jeeho/lab/miraeasset/mirae_env/최종/data' # train.xlsx, test.xlsx\n",
    "SAVE_PATH = '/Users/jeeho/lab/miraeasset/mirae_env/최종/dataout' # 각 feature"
   ]
  },
  {
   "cell_type": "code",
   "execution_count": null,
   "metadata": {},
   "outputs": [],
   "source": [
    "train=pd.read_csv(SAVE_PATH+\"/train_merged.csv\")\n",
    "test = pd.read_csv(SAVE_PATH+\"/test_merged.csv\")"
   ]
  },
  {
   "cell_type": "markdown",
   "metadata": {},
   "source": [
    "## Missing Value"
   ]
  },
  {
   "cell_type": "markdown",
   "metadata": {},
   "source": [
    "### 직접 impute"
   ]
  },
  {
   "cell_type": "markdown",
   "metadata": {},
   "source": [
    "#### AGE"
   ]
  },
  {
   "cell_type": "code",
   "execution_count": null,
   "metadata": {},
   "outputs": [],
   "source": [
    "age_missing = train[\"CODE\"][train[\"AGE\"].isnull()]\n",
    "for i,idx in enumerate(age_missing.index):\n",
    "  train[\"AGE\"][idx] = age[i]\n",
    "\n",
    "\n",
    "age_missing_test = test[\"CODE\"][test[\"AGE\"].isnull()]\n",
    "age_missing_test.drop(81, inplace=True)\n",
    "for i,idx in enumerate(age_missing_test.index):\n",
    "    test[\"AGE\"][idx] = age[i]"
   ]
  },
  {
   "cell_type": "code",
   "execution_count": null,
   "metadata": {},
   "outputs": [],
   "source": [
    "age = [16928,\n",
    " 18139,\n",
    " 18040,\n",
    " 9098,\n",
    " 1372,\n",
    " 5302,\n",
    " 6629,\n",
    " 18936,\n",
    " 12490,\n",
    " 16912,\n",
    " 17123,\n",
    " 12468,\n",
    " 16711,\n",
    " 17817,\n",
    " 11794,\n",
    " 16892,\n",
    " 2374,\n",
    " 2253,\n",
    " 12088,\n",
    " 4630,\n",
    " 12333,\n",
    " 16879,\n",
    " 12393,\n",
    " 8325,\n",
    " 4367,\n",
    " 8071,\n",
    " 8101,\n",
    " 6894,\n",
    " 232]\n",
    "\n",
    "test_age = [17277,\n",
    " 7010,\n",
    " 17989,\n",
    " 4728,\n",
    " 10307,\n",
    " 9229,\n",
    " 1539,\n",
    " 6999,\n",
    " 17650,\n",
    " 16168,\n",
    " 4243,\n",
    " 12119,\n",
    " 18026,\n",
    " 16711,\n",
    " 12299,\n",
    " 15273,\n",
    " 7597,\n",
    " 5805,\n",
    " 2751,\n",
    " 2848,\n",
    " 7590,\n",
    " 5725,\n",
    " 7975,\n",
    " 2792,\n",
    " 2243,\n",
    " 6498,\n",
    " 4266,\n",
    " 4000,\n",
    " 7531]"
   ]
  },
  {
   "cell_type": "markdown",
   "metadata": {},
   "source": [
    "#### 업종"
   ]
  },
  {
   "cell_type": "markdown",
   "metadata": {},
   "source": [
    "train"
   ]
  },
  {
   "cell_type": "code",
   "execution_count": null,
   "metadata": {},
   "outputs": [],
   "source": [
    "train[\"type\"][train['CO_NM']=='펄어비스'] = 3\n",
    "train[\"type\"][train['CO_NM']=='스튜디오드래곤'] = 3\n",
    "train[\"type\"][train['CO_NM']=='위메이드'] = 3\n",
    "train[\"type\"][train['CO_NM']=='JYP Ent.'] = 3\n",
    "[\"type\"][train['CO_NM']=='에스엠'] = 3\n",
    "train[\"type\"][train['CO_NM']=='오스템임플란트'] = 2\n",
    "train[\"type\"][train['CO_NM']=='동화기업'] = 7\n",
    "train[\"type\"][train['CO_NM']=='파라다이스'] = 6\n",
    "train[\"type\"][train['CO_NM']=='피엔티'] = 4\n",
    "train[\"type\"][train['CO_NM']=='고영'] = 4\n",
    "train[\"type\"][train['CO_NM']=='컴투스'] = 3\n",
    "train[\"type\"][train['CO_NM']=='와이지엔터테인먼트'] = 3\n",
    "train[\"type\"][train['CO_NM']=='이녹스첨단소재'] = 4\n",
    "train[\"type\"][train['CO_NM']=='웹젠'] = 3\n",
    "train[\"type\"][train['CO_NM']=='아난티'] = 6\n",
    "train[\"type\"][train['CO_NM']=='파트론'] = 4\n",
    "train[\"type\"][train['CO_NM']=='아미코젠'] = 6\n",
    "train[\"type\"][train['CO_NM']=='신흥에스이씨'] = 0\n",
    "train[\"type\"][train['CO_NM']=='국일제지'] = 7\n",
    "train[\"type\"][train['CO_NM']=='원익홀딩스'] = 4\n",
    "train[\"type\"][train['CO_NM']=='인터플렉스'] = 4\n",
    "train[\"type\"][train['CO_NM']=='톱텍'] = 4\n",
    "train[\"type\"][train['CO_NM']=='노바렉스'] = 6\n",
    "train[\"type\"][train['CO_NM']=='비츠로셀'] = 0\n",
    "train[\"type\"][train['CO_NM']=='에스티큐브'] = 4\n",
    "train[\"type\"][train['CO_NM']=='멀티캠퍼스'] = 3\n",
    "train[\"type\"][train['CO_NM']=='슈피겐코리아'] = 6\n",
    "train[\"type\"][train['CO_NM']=='알서포트'] = 3\n",
    "train[\"type\"][train['CO_NM']=='지니뮤직'] = 3\n",
    "train[\"type\"][train['CO_NM']=='에이치엘사이언스'] = 6\n",
    "train[\"type\"][train['CO_NM']=='현대에버다임'] = 5\n",
    "train[\"type\"][train['CO_NM']=='영풍정밀'] = 6\n",
    "train[\"type\"][train['CO_NM']=='SBS콘텐츠허브'] = 3\n",
    "train[\"type\"][train['CO_NM']=='나노엔텍'] = 2\n",
    "train[\"type\"][train['CO_NM']=='신화인터텍'] = 4\n",
    "train[\"type\"][train['CO_NM']=='에스엠코어'] = 4\n",
    "train[\"type\"][train['CO_NM']=='넥스트사이언스'] = 7\n",
    "train[\"type\"][train['CO_NM']=='롯데푸드'] = 6\n",
    "train[\"type\"][train['CO_NM']=='SBS미디어홀딩스'] = 3\n",
    "train[\"type\"][train['CO_NM']=='폴루스바이오팜'] = 3\n",
    "train[\"type\"][train['CO_NM']=='SK머티리얼즈'] = 1\n",
    "train[\"type\"][train['CO_NM']=='넥슨지티'] = 3\n",
    "train[\"type\"][train['CO_NM']=='디피씨'] = 1\n",
    "train[\"type\"][train['CO_NM']=='HDC'] = 1\n",
    "train[\"type\"][train['CO_NM']=='우리들휴브레인'] = 5\n",
    "    \n",
    "  "
   ]
  },
  {
   "cell_type": "markdown",
   "metadata": {},
   "source": [
    "test"
   ]
  },
  {
   "cell_type": "code",
   "execution_count": null,
   "metadata": {},
   "outputs": [],
   "source": [
    "\n",
    "test[\"type\"][test['CO_NM']=='엘앤에프'] = 0\n",
    "test[\"type\"][test['CO_NM']=='에스에프에이'] = 4\n",
    "test[\"type\"][test['CO_NM']=='대주전자재료'] = 4\n",
    "test[\"type\"][test['CO_NM']=='씨아이에스'] = 4\n",
    "test[\"type\"][test['CO_NM']=='클래시스'] = 2\n",
    "test[\"type\"][test['CO_NM']=='비에이치'] = 4\n",
    "test[\"type\"][test['CO_NM']=='다원시스'] = 0\n",
    "test[\"type\"][test['CO_NM']=='매일유업'] = 6\n",
    "test[\"type\"][test['CO_NM']=='서부T&D'] = 6\n",
    "test[\"type\"][test['CO_NM']=='KH바텍'] = 4\n",
    "test[\"type\"][test['CO_NM']=='하림'] = 6\n",
    "test[\"type\"][test['CO_NM']=='이지홀딩스'] = 6\n",
    "test[\"type\"][test['CO_NM']=='드림어스컴퍼니'] = 3\n",
    "test[\"type\"][test['CO_NM']=='로보스타'] = 4\n",
    "#df[\"type\"][df['CO_NM']=='부산가스'] = 0\n",
    "#df[\"type\"][df['CO_NM']=='엔에스쇼핑'] = 3\n",
    "test[\"type\"][test['CO_NM']=='에이치엘비'] = 2"
   ]
  },
  {
   "cell_type": "markdown",
   "metadata": {},
   "source": [
    "#### 총직원수 "
   ]
  },
  {
   "cell_type": "markdown",
   "metadata": {},
   "source": [
    "train"
   ]
  },
  {
   "cell_type": "code",
   "execution_count": null,
   "metadata": {},
   "outputs": [],
   "source": [
    "\n",
    "#emp[\"CO_NM\"][emp.total_emp.isna()]\n",
    "train['total_emp'][train['CO_NM']=='대한전선']=883\n",
    "train['total_emp'][train['CO_NM']=='휠라홀딩스']=68\n",
    "train['total_emp'][train['CO_NM']=='한샘']=2540\n",
    "train['total_emp'][train['CO_NM']=='대성홀딩스']=39\n",
    "train['total_emp'][train['CO_NM']=='하나투어']=1180      \n",
    "train['total_emp'][train['CO_NM']=='흥아해운']=344\n",
    "train['total_emp'][train['CO_NM']=='HDC']=11\n",
    "train['total_emp'][train['CO_NM']=='롯데푸드']=1940\n",
    "train['total_emp'][train['CO_NM']=='지역난방공사']=2201\n",
    "train['total_emp'][train['CO_NM']=='에이프로젠 MED']=69\n",
    "train['total_emp'][train['CO_NM']=='SBS미디어홀딩스']=8\n",
    "train['total_emp'][train['CO_NM']=='태영건설']=1632\n",
    "train['total_emp'][train['CO_NM']=='대한제분']=367\n",
    "train['total_emp'][train['CO_NM']=='쎌마테라퓨틱스']=5\n",
    "train['total_emp'][train['CO_NM']=='동방']=735\n",
    "train['total_emp'][train['CO_NM']=='보락']=136\n",
    "train['total_emp'][train['CO_NM']=='대원화성']=163\n",
    "train['total_emp'][train['CO_NM']=='삼영화학']=198\n",
    "train['total_emp'][train['CO_NM']=='영흥']=448\n",
    "train['total_emp'][train['CO_NM']=='폴루스바이오팜']=40\n",
    "train['total_emp'][train['CO_NM']=='SK머티리얼즈']=868\n",
    "train['total_emp'][train['CO_NM']=='동화기업']=769\n",
    "train['total_emp'][train['CO_NM']=='하림지주']=58\n",
    "train['total_emp'][train['CO_NM']=='넥슨지티']=186\n",
    "train['total_emp'][train['CO_NM']=='인선이엔티']=418\n",
    "train['total_emp'][train['CO_NM']=='에넥스']=259"
   ]
  },
  {
   "cell_type": "markdown",
   "metadata": {},
   "source": [
    "test"
   ]
  },
  {
   "cell_type": "code",
   "execution_count": null,
   "metadata": {},
   "outputs": [],
   "source": [
    "\n",
    "test['total_emp'][test['CO_NM']=='메리츠증권']=1556\n",
    "#test['total_emp'][test['CO_NM']=='부산가스']= 상장폐지\n",
    "test['total_emp'][test['CO_NM']=='효성중공업']= 6250\n",
    "test['total_emp'][test['CO_NM']=='남해화학']= 493\n",
    "#test['total_emp'][test['CO_NM']=='엔에스쇼핑']=상장폐지\n",
    "test['total_emp'][test['CO_NM']=='벽산']= 312\n",
    "test['total_emp'][test['CO_NM']=='태경케미컬']= 106\n",
    "test['total_emp'][test['CO_NM']=='무림페이퍼']= 459\n",
    "test['total_emp'][test['CO_NM']=='센트랄모텍']= 147\n",
    "test['total_emp'][test['CO_NM']=='컨버즈']= 53\n",
    "test['total_emp'][test['CO_NM']=='TBH글로벌']= 310\n",
    "test['total_emp'][test['CO_NM']=='이베스트투자증권']= 587\n",
    "test['total_emp'][test['CO_NM']=='하림']= 2281"
   ]
  },
  {
   "cell_type": "markdown",
   "metadata": {},
   "source": [
    "#### SIZE"
   ]
  },
  {
   "cell_type": "code",
   "execution_count": null,
   "metadata": {},
   "outputs": [],
   "source": [
    "from numpy import log10\n",
    "\n",
    "train['SIZE'][train['CO_NM']=='강남제비스코']=log10(904010952337)\n",
    "train['SIZE'][train['CO_NM']=='CJ ENM']=log10(7940625*1000000)\n",
    "\n",
    "test['SIZE'][test['CO_NM']=='BGF']=log10(1981622*1000000)\n",
    "test['SIZE'][test['CO_NM']=='LS전선아시아']=log10(495255*1000000)"
   ]
  },
  {
   "cell_type": "markdown",
   "metadata": {},
   "source": [
    "#### work_year\n",
    "#### salary\n",
    "#### female_salary"
   ]
  },
  {
   "cell_type": "code",
   "execution_count": null,
   "metadata": {},
   "outputs": [],
   "source": [
    "train['work_year'][train['CO_NM']=='SBS미디어홀딩스']= 3.5\n",
    "train['work_year'][train['CO_NM']=='보락']= 12.96\n",
    "train['work_year'][train['CO_NM']=='SK머티리얼즈']= 6.7\n",
    "train['work_year'][train['CO_NM']=='하림지주']= 2.8\n",
    "train['work_year'][train['CO_NM']=='현대차']= 18.92\n",
    "train['work_year'][train['CO_NM']=='에넥스']= 11.75\n",
    "train['work_year'][train['CO_NM']=='OCI']= 15.05\n",
    "train['work_year'][train['CO_NM']=='대한전선']= 11.4\n",
    "train['work_year'][train['CO_NM']=='휠라홀딩스']= 5.59\n",
    "train['work_year'][train['CO_NM']=='한샘']= 7.06\n",
    "train['work_year'][train['CO_NM']=='대성홀딩스']= 8.48\n",
    "train['work_year'][train['CO_NM']=='하나투어']= 9.95\n",
    "train['work_year'][train['CO_NM']=='SGC에너지']= 5\n",
    "train['work_year'][train['CO_NM']=='흥아해운']= 3.13\n",
    "train['work_year'][train['CO_NM']=='HDC']= 5.8\n",
    "train['work_year'][train['CO_NM']=='지역난방공사']= 12.8\n",
    "train['work_year'][train['CO_NM']=='대한제분']= 16.2\n",
    "train['work_year'][train['CO_NM']=='쎌마테라퓨틱스']= 8.25\n",
    "train['work_year'][train['CO_NM']=='동방']= 15.6\n",
    "train['work_year'][train['CO_NM']=='대원화성']= 14.41\n",
    "train['work_year'][train['CO_NM']=='삼영화학']= 10.93\n",
    "train['work_year'][train['CO_NM']=='영흥']= 10\n",
    "train['work_year'][train['CO_NM']=='코아스']= 5\n",
    "train['work_year'][train['CO_NM']=='폴루스바이오팜']= 2.9\n",
    "train['work_year'][train['CO_NM']=='동화기업']= 8\n",
    "train['work_year'][train['CO_NM']=='인선이엔티']= 2.52\n",
    "train['work_year'][train['CO_NM']=='KCC건설']= 9.66\n",
    "\n",
    "train['salary'][train['CO_NM']=='SBS미디어홀딩스']= 41000000\n",
    "train['salary'][train['CO_NM']=='보락']= 24026000\n",
    "train['salary'][train['CO_NM']=='SK머티리얼즈']= 60430000\n",
    "train['salary'][train['CO_NM']=='하림지주']= 33000000\n",
    "train['salary'][train['CO_NM']=='현대차']= 47643247\n",
    "train['salary'][train['CO_NM']=='에넥스']=95872648\n",
    "\n",
    "train['female_salary'][train['CO_NM']=='SBS미디어홀딩스']= 0\n",
    "train['female_salary'][train['CO_NM']=='보락']= 21030000\n",
    "train['female_salary'][train['CO_NM']=='SJM홀딩스']= 0\n",
    "train['female_salary'][train['CO_NM']=='SK머티리얼즈']= 43000000\n",
    "train['female_salary'][train['CO_NM']=='하림지주']= 24000000\n",
    "\n",
    "\n",
    "test['work_year'][test['CO_NM']=='메리츠증권']= 6.28\n",
    "test['work_year'][test['CO_NM']=='무림페이퍼']= 37\n",
    "test['work_year'][test['CO_NM']=='이베스트투자증권']= 5\n",
    "test['work_year'][test['CO_NM']=='이니텍']= 5.3\n",
    "test['work_year'][test['CO_NM']=='효성중공업']= 14.2\n",
    "test['work_year'][test['CO_NM']=='남해화학']= 16.5\n",
    "test['work_year'][test['CO_NM']=='삼영전자']= 15.12\n",
    "test['work_year'][test['CO_NM']=='벽산']= 13.12\n",
    "test['work_year'][test['CO_NM']=='태경케미컬']= 8.43\n",
    "test['work_year'][test['CO_NM']=='센트랄모텍']= 7.55\n",
    "test['work_year'][test['CO_NM']=='사조씨푸드']= 8.17\n",
    "test['work_year'][test['CO_NM']=='컨버즈']= 2.1\n",
    "test['work_year'][test['CO_NM']=='TBH글로벌']= 6.76\n",
    "test['work_year'][test['CO_NM']=='범양건영']=5.02\n",
    "\n",
    "test['salary'][test['CO_NM']=='메리츠증권']= 103559000\n",
    "test['salary'][test['CO_NM']=='무림페이퍼']= 70000000\n",
    "test['salary'][test['CO_NM']=='이베스트투자증권']= 131967000\n",
    "test['salary'][test['CO_NM']=='이니텍']= 28607000\n",
    "\n",
    "test['female_salary'][test['CO_NM']=='메리츠증권']= 63926920\n",
    "test['female_salary'][test['CO_NM']=='아세아시멘트']=21281000\n",
    "test['female_salary'][test['CO_NM']=='무림페이퍼']= 5200000\n",
    "test['female_salary'][test['CO_NM']=='CS홀딩스']= 0\n",
    "test['female_salary'][test['CO_NM']=='이베스트투자증권']= 8496000\n",
    "test['female_salary'][test['CO_NM']=='이니텍']= 4300000\n"
   ]
  },
  {
   "cell_type": "markdown",
   "metadata": {},
   "source": [
    "#### 업종별 평균\n",
    "- major_hldr\n",
    "- minor_hldr\n",
    "- outer_dir\n",
    "- dir_gender\n",
    "- emp_gender\n",
    "- dir_pay"
   ]
  },
  {
   "cell_type": "code",
   "execution_count": null,
   "metadata": {},
   "outputs": [],
   "source": [
    "# 업종별 평균값을 저장해놓기 위한 임시 함수\n",
    "def make_aver(i,aver_by_service_type, df):\n",
    "  aver_by_service_type[\"major_hldr\"][i]=df[\"major_hldr\"][df[\"type\"]==i].copy().dropna().mean()\n",
    "  aver_by_service_type[\"minor_hldr\"][i]=df[\"minor_hldr\"][df[\"type\"]==i].copy().dropna().mean()\n",
    "  aver_by_service_type[\"outer_dir\"][i]=df[\"outer_dir\"][df[\"type\"]==i].copy().dropna().mean()\n",
    "  aver_by_service_type[\"dir_gender\"][i]=df[\"dir_gender\"][df[\"type\"]==i].copy().dropna().mean()\n",
    "  aver_by_service_type[\"emp_gender\"][i]=df[\"emp_gender\"][df[\"type\"]==i].copy().dropna().mean()\n",
    "  aver_by_service_type[\"dir_pay\"][i]=df[\"dir_pay\"][df[\"type\"]==i].copy().dropna().mean()\n",
    "  return aver_by_service_type\n",
    "\n",
    "# 저장된 값으로 결측치 채우는 함수\n",
    "def fill_aver(df, j , col, aver_by_service_type):\n",
    "  m = df[col][df[\"type\"]==j].isnull()\n",
    "\n",
    "  for i in m.index:\n",
    "    if m[i] :\n",
    "      df[col][i]=aver_by_service_type[col][j]\n",
    "  return df\n",
    "\n",
    "\n",
    "# 업종별 평균값을 저장\n",
    "aver_by_service_type = pd.DataFrame(np.NaN,index = range(9),\n",
    "                                    columns=[\"major_hldr\",\"minor_hldr\",\"outer_dir\",\"dir_gender\",\"emp_gender\",\"dir_pay\"])\n",
    "for i in range(9): \n",
    "  aver_by_service_type = make_aver(i, aver_by_service_type,train)\n",
    "  \n",
    "# 저장된 값 채우기 \n",
    "for i in range(9):\n",
    "  for col in [\"major_hldr\",\"minor_hldr\",\"outer_dir\",\"dir_gender\",\"emp_gender\",\"dir_pay\"]:\n",
    "    train = fill_aver(train, i,col, aver_by_service_type)\n",
    "    test = fill_aver(test, i,col, aver_by_service_type)\n"
   ]
  },
  {
   "cell_type": "markdown",
   "metadata": {},
   "source": [
    "#### re_emp_ratio"
   ]
  },
  {
   "cell_type": "code",
   "execution_count": null,
   "metadata": {},
   "outputs": [],
   "source": [
    "train['re_emp_ratio'][train['CO_NM']=='SBS미디어홀딩스']= 8\n",
    "train['re_emp_ratio'][train['CO_NM']=='보락']= 134\n",
    "train['re_emp_ratio'][train['CO_NM']=='SK머티리얼즈']= 822\t\n",
    "train['re_emp_ratio'][train['CO_NM']=='하림지주']= 60\n",
    "\n",
    "test['re_emp_ratio'][test['CO_NM']=='메리츠증권']= 546\t\n",
    "test['re_emp_ratio'][test['CO_NM']=='무림페이퍼']= 452\t\n",
    "test['re_emp_ratio'][test['CO_NM']=='이베스트투자증권']= 313\n",
    "test['re_emp_ratio'][test['CO_NM']=='이니텍']= 209"
   ]
  },
  {
   "cell_type": "markdown",
   "metadata": {},
   "source": [
    "#### 코사인 유사도\n",
    "- opos\n",
    "- noe\n",
    "- cr\n",
    "- dr \n",
    "- DVR"
   ]
  },
  {
   "cell_type": "code",
   "execution_count": null,
   "metadata": {},
   "outputs": [],
   "source": [
    "import numpy as np\n",
    "import pandas as pd\n",
    "from numpy import dot \n",
    "from numpy.linalg import norm \n",
    "\n",
    "\n",
    "def cos_sim(a, b): \n",
    "    return dot(a, b)/(norm(a)*norm(b))   #코사인 유사도 \n",
    "\n",
    "\n",
    "\n",
    "def cos_sim_fill(df, column):\n",
    "    \n",
    "    for i in range(len(df[column])):\n",
    "        if type(df.loc[i,column]) == str:\n",
    "            df.loc[i,column]= df.loc[i,column].replace(',','')  # 컬럼 데이터 전처리 \n",
    "    df = df.astype({column: 'float'})  # 데이터 타입 변환 \n",
    "    index = df[column][df[column].isnull()].index    # null인 인덱스 찾기 \n",
    "    for g in range(len(index)):\n",
    "        num= int(df.loc[index[g],['NAME']])     # 업종 추출 \n",
    "        a=df[df['NAME']==num]   # 같은 업종인 행들 추출\n",
    "        b=a[['SIZE','total_emp']]   # size / total 칼럼\n",
    "        c=b.index     # 인덱스변환 \n",
    "        sim=[]\n",
    "        for i in range(len(c)):\n",
    "            sim1= cos_sim(list(b.loc[index[g],['SIZE','total_emp']]),list(b.loc[c[i],['SIZE','total_emp']]))  # 코사인 유사도 계산\n",
    "            sim.append(sim)\n",
    "                \n",
    "        df=pd.DataFrame(columns=['idx','cos_sim'])\n",
    "        cos_sim_df= pd.DataFrame({'idx': c ,'cos_sim':sim})\n",
    "        df = pd.concat([df,cos_sim_df])\n",
    "        df= df.sort_values(by=['cos_sim'],ascending = False)\n",
    "        df_top5=df[1:8]   # 코사인 유사도 본인 제외하고 7가지의 기업 가져온다 \n",
    "        aver =pd.DataFrame(columns=['idx','mean'])        # 평균 구하기 \n",
    "        aver1= pd.DataFrame({'idx':list(map(int,list(df_top5['idx']))),'mean': df.loc[list(map(int,list(df_top5['idx']))),column]})\n",
    "        aver= pd.concat([aver,aver1])\n",
    "        df.loc[index[g],[column]] = aver['mean'].mean()\n",
    "            \n",
    "    return df "
   ]
  },
  {
   "cell_type": "code",
   "execution_count": null,
   "metadata": {},
   "outputs": [],
   "source": [
    "train = cos_sim_fill(train , [\"OPOS\",\"NOE\",\"CR\", \"DR\",\"DVR\"])\n",
    "test = cos_sim_fill(test , [\"OPOS\",\"NOE\",\"CR\", \"DR\",\"DVR\"])\n"
   ]
  },
  {
   "cell_type": "markdown",
   "metadata": {},
   "source": [
    "#### drop"
   ]
  },
  {
   "cell_type": "code",
   "execution_count": null,
   "metadata": {},
   "outputs": [],
   "source": [
    "train = train.drop([\"CODE\", \"CO_NM\",\"total_emp\", \"div_cur\"], axis=1)\n",
    "test = test.drop([\"CODE\", \"CO_NM\",\"total_emp\", \"div_cur\"], axis=1)"
   ]
  },
  {
   "cell_type": "markdown",
   "metadata": {},
   "source": [
    "#### new feature"
   ]
  },
  {
   "cell_type": "code",
   "execution_count": null,
   "metadata": {},
   "outputs": [],
   "source": [
    "for i in range(len(train)):\n",
    "    train['female_salary'][i] = train['female_salary'][i]/train['salary'][i]\n",
    "    \n",
    "for i in range(len(test)):\n",
    "    test['female_salary'][i] = test['female_salary'][i]/test['salary'][i]\n",
    "    "
   ]
  },
  {
   "cell_type": "markdown",
   "metadata": {},
   "source": [
    "#### log 변환 \n",
    "- numerical feature 중 왜도가 큰 "
   ]
  },
  {
   "cell_type": "code",
   "execution_count": null,
   "metadata": {},
   "outputs": [],
   "source": [
    "import pandas as pd\n",
    "import matplotlib.pyplot as plt\n",
    "import numpy as np\n",
    "\n",
    "\n",
    "def log_transform(df):\n",
    "\n",
    "     #0인값이 있기 때문에 +1해서 로그변환\n",
    "     df['CR']=np.log1p(df['CR'])\n",
    "     df['PBR']=np.log1p(df['PBR'])\n",
    "     df['PER']=np.log1p(df['PER'])\n",
    "     df['DVR']=np.log1p(df['DVR'])\n",
    "     df['work_year']=np.log1p(df['work_year'])\n",
    "     df['salary']=np.log1p(df['salary'])\n",
    "     df['dir_pay']=np.log1p(df['dir_pay'])\n",
    "     df['s_negative']=np.log1p(df['s_negative'])\n",
    "     df['e_negative']=np.log1p(df['e_negative'])\n",
    "     df['e_positive']=np.log1p(df['e_positive'])\n",
    "     \n",
    "     #output_path에 저장\n",
    "     return df"
   ]
  },
  {
   "cell_type": "markdown",
   "metadata": {},
   "source": [
    "#### minmax scaling"
   ]
  },
  {
   "cell_type": "code",
   "execution_count": null,
   "metadata": {},
   "outputs": [],
   "source": [
    "import pandas as pd\n",
    "from sklearn.preprocessing import MinMaxScaler\n",
    "\n",
    "#col=['AGE','OPOS','NOE','CR','DR','PER','PBR','DVR','SIZE','div_cur','major_hldr',\n",
    "#     'minor_hldr',\t'outer_dir',\t'dir_gender',\t'emp_gender',\t're_emp_ratio'\t,'work_year',\t\n",
    "#     'salary',\t'salary_female','dir_pay',\t'e_pos_news',\t's_neg_news',\t'g_neg_news'\t,\n",
    "#     's_negative',\t'e_positive',\t'e_negative']\n",
    "\n",
    "cat_col=['CODE','CO_NM','market','type','esg_report','gov_report','green_bond','green_corp','green_tech']\n",
    "#로그 변환한 데이터를 input으로 받아 min_max scaling\n",
    "\n",
    "def minmax(df):\n",
    "    scaler= MinMaxScaler()\n",
    "    df_cat= df[cat_col]\n",
    "    df_num=df[col]\n",
    "    \n",
    "    df_num= scaler.fit_transform(df_num)\n",
    "    output=pd.DataFrame(df_num, columns=col,index=df.index)\n",
    "    final=pd.concat([df_cat,output],axis=1)\n",
    "    return final\n",
    "\n",
    "#업종별로 다르게 스케일링\n",
    "def type_minmax(df):\n",
    "    df0= df[df['type']==0]\n",
    "    df1= df[df['type']==1]\n",
    "    df2= df[df['type']==2]\n",
    "    df3= df[df['type']==3]\n",
    "    df4= df[df['type']==4]\n",
    "    df5= df[df['type']==5]\n",
    "    df6= df[df['type']==6]\n",
    "    df7= df[df['type']==7]\n",
    "    df8= df[df['type']==8]\n",
    "\n",
    "    df0=minmax(df0)\n",
    "    df1=minmax(df1)\n",
    "    df2=minmax(df2)\n",
    "    df3=minmax(df3)\n",
    "    df4=minmax(df4)\n",
    "    df5=minmax(df5)\n",
    "    df6=minmax(df6)\n",
    "    df7=minmax(df7)\n",
    "    df8=minmax(df8)\n",
    "    all_minmax= pd.concat([df0,df1,df2,df3,df4,df5,df6,df7,df8],axis=0)\n",
    "    all_minmax=all_minmax.sort_index()\n",
    "    \n",
    "    return all_minmax\n",
    "\n",
    "def Min_Max_scaling(df, train):\n",
    "    \n",
    "    output= type_minmax(df)\n",
    "\n",
    "    if train==1:\n",
    "        #train은 등급을 추가\n",
    "        output['E_GRADE']= df['E_GRADE']\n",
    "        output['S_GRADE']= df['S_GRADE']\n",
    "        output['G_GRADE']= df['G_GRADE']\n",
    "        output['SG_GRADE']= df['ESG_GRADE']\n",
    "        return output\n",
    "\n",
    "    else:\n",
    "        #test는 등급 없이\n",
    "        return output\n"
   ]
  },
  {
   "cell_type": "code",
   "execution_count": null,
   "metadata": {},
   "outputs": [],
   "source": [
    "train = Min_Max_scaling(train,1)\n",
    "test = Min_Max_scaling(test,0)"
   ]
  },
  {
   "cell_type": "markdown",
   "metadata": {},
   "source": [
    "#### 최종 csv 저장"
   ]
  },
  {
   "cell_type": "code",
   "execution_count": null,
   "metadata": {},
   "outputs": [],
   "source": [
    "train.to_csv(SAVE_PATH+\"/train_preprocessed.csv\", index= False)\n",
    "test.to_csv(SAVE_PATH+\"/test_preprocessed.csv\", index= False)"
   ]
  }
 ],
 "metadata": {
  "kernelspec": {
   "display_name": "Python 3.9.6 ('mirae_env': venv)",
   "language": "python",
   "name": "python3"
  },
  "language_info": {
   "name": "python",
   "version": "3.9.6"
  },
  "orig_nbformat": 4,
  "vscode": {
   "interpreter": {
    "hash": "64d866ef73fd4523bcbd3f968064e7d4c18f8765ec835329228ef1977468bff9"
   }
  }
 },
 "nbformat": 4,
 "nbformat_minor": 2
}
