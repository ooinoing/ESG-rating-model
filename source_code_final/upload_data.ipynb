{
 "cells": [
  {
   "cell_type": "markdown",
   "metadata": {},
   "source": [
    "# 구글 스토리지에 csv 파일 업로드"
   ]
  },
  {
   "cell_type": "code",
   "execution_count": null,
   "metadata": {},
   "outputs": [],
   "source": [
    "\n",
    "KEY_PATH = #서비스 계정 인증 정보가 담긴 JSON 파일 경로\n",
    "file_path = #업로드할 파일의 경로\n",
    "bucket_name = #업로드할 버킷의 이름\n",
    "blob_name = #버킷 안에 업로드 된 파일 이름"
   ]
  },
  {
   "cell_type": "code",
   "execution_count": null,
   "metadata": {},
   "outputs": [],
   "source": [
    "from google.cloud import storage\n",
    "from google.oauth2 import service_account\n",
    "\n",
    "def upload(FILE_PATH, KEY_PATH, bucket_name, blob_name):\n",
    "\n",
    "    \n",
    "    # Credentials 객체 생성\n",
    "    credentials = service_account.Credentials.from_service_account_file(KEY_PATH)\n",
    "    \n",
    "    # 구글 스토리지 클라이언트 객체 생성\n",
    "    client = storage.Client(credentials = credentials, project = credentials.project_id)\n",
    "    \n",
    "    # 버킷 선택\n",
    "    bucket = client.get_bucket(bucket_name)\n",
    "\n",
    "    # 블랍 객체 생성\n",
    "    blob = bucket.blob(blob_name)\n",
    "\n",
    "    # 파일 업로드\n",
    "    blob.upload_from_filename(file_path)\n",
    "\n",
    "    # 버킷에 업로드된 객체의 공개 URL\n",
    "    blob.public_url"
   ]
  },
  {
   "cell_type": "code",
   "execution_count": null,
   "metadata": {},
   "outputs": [],
   "source": [
    "    \n",
    "#KEY_PATH = 서비스 계정 인증 정보가 담긴 JSON 파일 경로\n",
    "#file_path = 업로드할 파일의 경로\n",
    "#bucket_name = 업로드할 버킷의 이름\n",
    "#blob_name = 버킷 안에 업로드 된 파일 이름\n",
    "\n",
    "upload(FILE_PATH, KEY_PATH, bucket_name, blob_name)\n"
   ]
  }
 ],
 "metadata": {
  "kernelspec": {
   "display_name": "Python 3.9.7 ('base')",
   "language": "python",
   "name": "python3"
  },
  "language_info": {
   "codemirror_mode": {
    "name": "ipython",
    "version": 3
   },
   "file_extension": ".py",
   "mimetype": "text/x-python",
   "name": "python",
   "nbconvert_exporter": "python",
   "pygments_lexer": "ipython3",
   "version": "3.9.7"
  },
  "orig_nbformat": 4,
  "vscode": {
   "interpreter": {
    "hash": "0c3d1564a1409a17ea19086fe7a4726f74a986daac9e02acd719c262bc1ff9ca"
   }
  }
 },
 "nbformat": 4,
 "nbformat_minor": 2
}
